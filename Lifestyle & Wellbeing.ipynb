{
 "cells": [
  {
   "cell_type": "markdown",
   "metadata": {},
   "source": [
    "# Lifestyle & Wellbeing Data"
   ]
  },
  {
   "cell_type": "code",
   "execution_count": 157,
   "metadata": {},
   "outputs": [],
   "source": [
    "import pandas as pd\n",
    "import numpy as np\n",
    "import matplotlib.pyplot as plt\n",
    "import seaborn as sns\n",
    "from sklearn.metrics import confusion_matrix\n",
    "from sklearn.metrics import accuracy_score\n",
    "from sklearn.cluster import KMeans\n",
    "\n",
    "%matplotlib inline"
   ]
  },
  {
   "cell_type": "markdown",
   "metadata": {},
   "source": [
    "## Informations on dataset : \n",
    "Found on Kaggle : [Dataset Source](https://www.kaggle.com/ydalat/lifestyle-and-wellbeing-data)\n",
    "\n",
    "Dataset was made from gathering answers of 12756 people on 23 different features from the \"Your Work-Life balance score\" survey ([link here](http://www.authentic-happiness.com/your-life-satisfaction-score)) based on the recent research published in the 360 living guide. \n",
    "\n",
    "##### This survey enlights 5 dimensions of professional/personal life balance experience : \n",
    "1. Healthy body\n",
    "2. Healthy mind\n",
    "3. Expertise (measuring the ability to grow your expertise and achieve something unique) \n",
    "4. Connection (strength of social network) \n",
    "5. Meaning (evaluating your compassion, generosity, how, much you are living the life of your dream) \n",
    "\n",
    "\n"
   ]
  },
  {
   "cell_type": "code",
   "execution_count": 337,
   "metadata": {},
   "outputs": [],
   "source": [
    "raw_df = pd.read_csv('Wellbeing_and_lifestyle_data.csv')"
   ]
  },
  {
   "cell_type": "code",
   "execution_count": 338,
   "metadata": {},
   "outputs": [
    {
     "data": {
      "text/html": [
       "<div>\n",
       "<style scoped>\n",
       "    .dataframe tbody tr th:only-of-type {\n",
       "        vertical-align: middle;\n",
       "    }\n",
       "\n",
       "    .dataframe tbody tr th {\n",
       "        vertical-align: top;\n",
       "    }\n",
       "\n",
       "    .dataframe thead th {\n",
       "        text-align: right;\n",
       "    }\n",
       "</style>\n",
       "<table border=\"1\" class=\"dataframe\">\n",
       "  <thead>\n",
       "    <tr style=\"text-align: right;\">\n",
       "      <th></th>\n",
       "      <th>Timestamp</th>\n",
       "      <th>FRUITS_VEGGIES</th>\n",
       "      <th>DAILY_STRESS</th>\n",
       "      <th>PLACES_VISITED</th>\n",
       "      <th>CORE_CIRCLE</th>\n",
       "      <th>SUPPORTING_OTHERS</th>\n",
       "      <th>SOCIAL_NETWORK</th>\n",
       "      <th>ACHIEVEMENT</th>\n",
       "      <th>DONATION</th>\n",
       "      <th>BMI_RANGE</th>\n",
       "      <th>...</th>\n",
       "      <th>LIVE_VISION</th>\n",
       "      <th>SLEEP_HOURS</th>\n",
       "      <th>LOST_VACATION</th>\n",
       "      <th>DAILY_SHOUTING</th>\n",
       "      <th>SUFFICIENT_INCOME</th>\n",
       "      <th>PERSONAL_AWARDS</th>\n",
       "      <th>TIME_FOR_PASSION</th>\n",
       "      <th>DAILY_MEDITATION</th>\n",
       "      <th>AGE</th>\n",
       "      <th>GENDER</th>\n",
       "    </tr>\n",
       "  </thead>\n",
       "  <tbody>\n",
       "    <tr>\n",
       "      <th>0</th>\n",
       "      <td>7/7/15</td>\n",
       "      <td>3</td>\n",
       "      <td>2</td>\n",
       "      <td>2</td>\n",
       "      <td>5</td>\n",
       "      <td>0</td>\n",
       "      <td>5</td>\n",
       "      <td>2</td>\n",
       "      <td>0</td>\n",
       "      <td>1</td>\n",
       "      <td>...</td>\n",
       "      <td>0</td>\n",
       "      <td>7</td>\n",
       "      <td>5</td>\n",
       "      <td>5</td>\n",
       "      <td>1</td>\n",
       "      <td>4</td>\n",
       "      <td>0</td>\n",
       "      <td>5</td>\n",
       "      <td>36 to 50</td>\n",
       "      <td>Female</td>\n",
       "    </tr>\n",
       "    <tr>\n",
       "      <th>1</th>\n",
       "      <td>7/7/15</td>\n",
       "      <td>2</td>\n",
       "      <td>3</td>\n",
       "      <td>4</td>\n",
       "      <td>3</td>\n",
       "      <td>8</td>\n",
       "      <td>10</td>\n",
       "      <td>5</td>\n",
       "      <td>2</td>\n",
       "      <td>2</td>\n",
       "      <td>...</td>\n",
       "      <td>5</td>\n",
       "      <td>8</td>\n",
       "      <td>2</td>\n",
       "      <td>2</td>\n",
       "      <td>2</td>\n",
       "      <td>3</td>\n",
       "      <td>2</td>\n",
       "      <td>6</td>\n",
       "      <td>36 to 50</td>\n",
       "      <td>Female</td>\n",
       "    </tr>\n",
       "    <tr>\n",
       "      <th>2</th>\n",
       "      <td>7/7/15</td>\n",
       "      <td>2</td>\n",
       "      <td>3</td>\n",
       "      <td>3</td>\n",
       "      <td>4</td>\n",
       "      <td>4</td>\n",
       "      <td>10</td>\n",
       "      <td>3</td>\n",
       "      <td>2</td>\n",
       "      <td>2</td>\n",
       "      <td>...</td>\n",
       "      <td>5</td>\n",
       "      <td>8</td>\n",
       "      <td>10</td>\n",
       "      <td>2</td>\n",
       "      <td>2</td>\n",
       "      <td>4</td>\n",
       "      <td>8</td>\n",
       "      <td>3</td>\n",
       "      <td>36 to 50</td>\n",
       "      <td>Female</td>\n",
       "    </tr>\n",
       "    <tr>\n",
       "      <th>3</th>\n",
       "      <td>7/7/15</td>\n",
       "      <td>3</td>\n",
       "      <td>3</td>\n",
       "      <td>10</td>\n",
       "      <td>3</td>\n",
       "      <td>10</td>\n",
       "      <td>7</td>\n",
       "      <td>2</td>\n",
       "      <td>5</td>\n",
       "      <td>2</td>\n",
       "      <td>...</td>\n",
       "      <td>0</td>\n",
       "      <td>5</td>\n",
       "      <td>7</td>\n",
       "      <td>5</td>\n",
       "      <td>1</td>\n",
       "      <td>5</td>\n",
       "      <td>2</td>\n",
       "      <td>0</td>\n",
       "      <td>51 or more</td>\n",
       "      <td>Female</td>\n",
       "    </tr>\n",
       "    <tr>\n",
       "      <th>4</th>\n",
       "      <td>7/7/15</td>\n",
       "      <td>5</td>\n",
       "      <td>1</td>\n",
       "      <td>3</td>\n",
       "      <td>3</td>\n",
       "      <td>10</td>\n",
       "      <td>4</td>\n",
       "      <td>2</td>\n",
       "      <td>4</td>\n",
       "      <td>2</td>\n",
       "      <td>...</td>\n",
       "      <td>0</td>\n",
       "      <td>7</td>\n",
       "      <td>0</td>\n",
       "      <td>0</td>\n",
       "      <td>2</td>\n",
       "      <td>8</td>\n",
       "      <td>1</td>\n",
       "      <td>5</td>\n",
       "      <td>51 or more</td>\n",
       "      <td>Female</td>\n",
       "    </tr>\n",
       "    <tr>\n",
       "      <th>...</th>\n",
       "      <td>...</td>\n",
       "      <td>...</td>\n",
       "      <td>...</td>\n",
       "      <td>...</td>\n",
       "      <td>...</td>\n",
       "      <td>...</td>\n",
       "      <td>...</td>\n",
       "      <td>...</td>\n",
       "      <td>...</td>\n",
       "      <td>...</td>\n",
       "      <td>...</td>\n",
       "      <td>...</td>\n",
       "      <td>...</td>\n",
       "      <td>...</td>\n",
       "      <td>...</td>\n",
       "      <td>...</td>\n",
       "      <td>...</td>\n",
       "      <td>...</td>\n",
       "      <td>...</td>\n",
       "      <td>...</td>\n",
       "      <td>...</td>\n",
       "    </tr>\n",
       "    <tr>\n",
       "      <th>12751</th>\n",
       "      <td>2/23/2020 22:03:56</td>\n",
       "      <td>3</td>\n",
       "      <td>4</td>\n",
       "      <td>10</td>\n",
       "      <td>8</td>\n",
       "      <td>10</td>\n",
       "      <td>8</td>\n",
       "      <td>6</td>\n",
       "      <td>5</td>\n",
       "      <td>1</td>\n",
       "      <td>...</td>\n",
       "      <td>3</td>\n",
       "      <td>7</td>\n",
       "      <td>0</td>\n",
       "      <td>1</td>\n",
       "      <td>1</td>\n",
       "      <td>10</td>\n",
       "      <td>6</td>\n",
       "      <td>7</td>\n",
       "      <td>21 to 35</td>\n",
       "      <td>Female</td>\n",
       "    </tr>\n",
       "    <tr>\n",
       "      <th>12752</th>\n",
       "      <td>2/24/2020 2:44:30</td>\n",
       "      <td>3</td>\n",
       "      <td>3</td>\n",
       "      <td>6</td>\n",
       "      <td>5</td>\n",
       "      <td>2</td>\n",
       "      <td>5</td>\n",
       "      <td>1</td>\n",
       "      <td>0</td>\n",
       "      <td>2</td>\n",
       "      <td>...</td>\n",
       "      <td>0</td>\n",
       "      <td>7</td>\n",
       "      <td>0</td>\n",
       "      <td>0</td>\n",
       "      <td>2</td>\n",
       "      <td>3</td>\n",
       "      <td>0</td>\n",
       "      <td>2</td>\n",
       "      <td>36 to 50</td>\n",
       "      <td>Female</td>\n",
       "    </tr>\n",
       "    <tr>\n",
       "      <th>12753</th>\n",
       "      <td>2/24/2020 10:35:02</td>\n",
       "      <td>4</td>\n",
       "      <td>4</td>\n",
       "      <td>7</td>\n",
       "      <td>5</td>\n",
       "      <td>3</td>\n",
       "      <td>3</td>\n",
       "      <td>4</td>\n",
       "      <td>2</td>\n",
       "      <td>1</td>\n",
       "      <td>...</td>\n",
       "      <td>5</td>\n",
       "      <td>6</td>\n",
       "      <td>0</td>\n",
       "      <td>2</td>\n",
       "      <td>2</td>\n",
       "      <td>6</td>\n",
       "      <td>3</td>\n",
       "      <td>5</td>\n",
       "      <td>36 to 50</td>\n",
       "      <td>Female</td>\n",
       "    </tr>\n",
       "    <tr>\n",
       "      <th>12754</th>\n",
       "      <td>2/24/2020 12:54:10</td>\n",
       "      <td>3</td>\n",
       "      <td>3</td>\n",
       "      <td>10</td>\n",
       "      <td>4</td>\n",
       "      <td>8</td>\n",
       "      <td>10</td>\n",
       "      <td>3</td>\n",
       "      <td>3</td>\n",
       "      <td>1</td>\n",
       "      <td>...</td>\n",
       "      <td>1</td>\n",
       "      <td>6</td>\n",
       "      <td>0</td>\n",
       "      <td>1</td>\n",
       "      <td>1</td>\n",
       "      <td>10</td>\n",
       "      <td>1</td>\n",
       "      <td>10</td>\n",
       "      <td>21 to 35</td>\n",
       "      <td>Female</td>\n",
       "    </tr>\n",
       "    <tr>\n",
       "      <th>12755</th>\n",
       "      <td>2/24/2020 12:55:21</td>\n",
       "      <td>2</td>\n",
       "      <td>2</td>\n",
       "      <td>6</td>\n",
       "      <td>1</td>\n",
       "      <td>6</td>\n",
       "      <td>1</td>\n",
       "      <td>5</td>\n",
       "      <td>2</td>\n",
       "      <td>1</td>\n",
       "      <td>...</td>\n",
       "      <td>0</td>\n",
       "      <td>7</td>\n",
       "      <td>0</td>\n",
       "      <td>1</td>\n",
       "      <td>2</td>\n",
       "      <td>3</td>\n",
       "      <td>2</td>\n",
       "      <td>10</td>\n",
       "      <td>51 or more</td>\n",
       "      <td>Female</td>\n",
       "    </tr>\n",
       "  </tbody>\n",
       "</table>\n",
       "<p>12756 rows × 23 columns</p>\n",
       "</div>"
      ],
      "text/plain": [
       "                Timestamp  FRUITS_VEGGIES DAILY_STRESS  PLACES_VISITED  \\\n",
       "0                  7/7/15               3            2               2   \n",
       "1                  7/7/15               2            3               4   \n",
       "2                  7/7/15               2            3               3   \n",
       "3                  7/7/15               3            3              10   \n",
       "4                  7/7/15               5            1               3   \n",
       "...                   ...             ...          ...             ...   \n",
       "12751  2/23/2020 22:03:56               3            4              10   \n",
       "12752   2/24/2020 2:44:30               3            3               6   \n",
       "12753  2/24/2020 10:35:02               4            4               7   \n",
       "12754  2/24/2020 12:54:10               3            3              10   \n",
       "12755  2/24/2020 12:55:21               2            2               6   \n",
       "\n",
       "       CORE_CIRCLE  SUPPORTING_OTHERS  SOCIAL_NETWORK  ACHIEVEMENT  DONATION  \\\n",
       "0                5                  0               5            2         0   \n",
       "1                3                  8              10            5         2   \n",
       "2                4                  4              10            3         2   \n",
       "3                3                 10               7            2         5   \n",
       "4                3                 10               4            2         4   \n",
       "...            ...                ...             ...          ...       ...   \n",
       "12751            8                 10               8            6         5   \n",
       "12752            5                  2               5            1         0   \n",
       "12753            5                  3               3            4         2   \n",
       "12754            4                  8              10            3         3   \n",
       "12755            1                  6               1            5         2   \n",
       "\n",
       "       BMI_RANGE  ...  LIVE_VISION  SLEEP_HOURS  LOST_VACATION  \\\n",
       "0              1  ...            0            7              5   \n",
       "1              2  ...            5            8              2   \n",
       "2              2  ...            5            8             10   \n",
       "3              2  ...            0            5              7   \n",
       "4              2  ...            0            7              0   \n",
       "...          ...  ...          ...          ...            ...   \n",
       "12751          1  ...            3            7              0   \n",
       "12752          2  ...            0            7              0   \n",
       "12753          1  ...            5            6              0   \n",
       "12754          1  ...            1            6              0   \n",
       "12755          1  ...            0            7              0   \n",
       "\n",
       "       DAILY_SHOUTING  SUFFICIENT_INCOME  PERSONAL_AWARDS  TIME_FOR_PASSION  \\\n",
       "0                   5                  1                4                 0   \n",
       "1                   2                  2                3                 2   \n",
       "2                   2                  2                4                 8   \n",
       "3                   5                  1                5                 2   \n",
       "4                   0                  2                8                 1   \n",
       "...               ...                ...              ...               ...   \n",
       "12751               1                  1               10                 6   \n",
       "12752               0                  2                3                 0   \n",
       "12753               2                  2                6                 3   \n",
       "12754               1                  1               10                 1   \n",
       "12755               1                  2                3                 2   \n",
       "\n",
       "       DAILY_MEDITATION         AGE  GENDER  \n",
       "0                     5    36 to 50  Female  \n",
       "1                     6    36 to 50  Female  \n",
       "2                     3    36 to 50  Female  \n",
       "3                     0  51 or more  Female  \n",
       "4                     5  51 or more  Female  \n",
       "...                 ...         ...     ...  \n",
       "12751                 7    21 to 35  Female  \n",
       "12752                 2    36 to 50  Female  \n",
       "12753                 5    36 to 50  Female  \n",
       "12754                10    21 to 35  Female  \n",
       "12755                10  51 or more  Female  \n",
       "\n",
       "[12756 rows x 23 columns]"
      ]
     },
     "execution_count": 338,
     "metadata": {},
     "output_type": "execute_result"
    }
   ],
   "source": [
    "raw_df"
   ]
  },
  {
   "cell_type": "code",
   "execution_count": 4,
   "metadata": {
    "collapsed": true
   },
   "outputs": [
    {
     "data": {
      "text/plain": [
       "Index(['Timestamp', 'FRUITS_VEGGIES', 'DAILY_STRESS', 'PLACES_VISITED',\n",
       "       'CORE_CIRCLE', 'SUPPORTING_OTHERS', 'SOCIAL_NETWORK', 'ACHIEVEMENT',\n",
       "       'DONATION', 'BMI_RANGE', 'TODO_COMPLETED', 'FLOW', 'DAILY_STEPS',\n",
       "       'LIVE_VISION', 'SLEEP_HOURS', 'LOST_VACATION', 'DAILY_SHOUTING',\n",
       "       'SUFFICIENT_INCOME', 'PERSONAL_AWARDS', 'TIME_FOR_PASSION',\n",
       "       'DAILY_MEDITATION', 'AGE', 'GENDER'],\n",
       "      dtype='object')"
      ]
     },
     "execution_count": 4,
     "metadata": {},
     "output_type": "execute_result"
    }
   ],
   "source": [
    "raw_df.columns"
   ]
  },
  {
   "cell_type": "code",
   "execution_count": 70,
   "metadata": {
    "collapsed": true
   },
   "outputs": [
    {
     "data": {
      "text/plain": [
       "Timestamp            0\n",
       "FRUITS_VEGGIES       0\n",
       "DAILY_STRESS         0\n",
       "PLACES_VISITED       0\n",
       "CORE_CIRCLE          0\n",
       "SUPPORTING_OTHERS    0\n",
       "SOCIAL_NETWORK       0\n",
       "ACHIEVEMENT          0\n",
       "DONATION             0\n",
       "BMI_RANGE            0\n",
       "TODO_COMPLETED       0\n",
       "FLOW                 0\n",
       "DAILY_STEPS          0\n",
       "LIVE_VISION          0\n",
       "SLEEP_HOURS          0\n",
       "LOST_VACATION        0\n",
       "DAILY_SHOUTING       0\n",
       "SUFFICIENT_INCOME    0\n",
       "PERSONAL_AWARDS      0\n",
       "TIME_FOR_PASSION     0\n",
       "DAILY_MEDITATION     0\n",
       "AGE                  0\n",
       "GENDER               0\n",
       "dtype: int64"
      ]
     },
     "execution_count": 70,
     "metadata": {},
     "output_type": "execute_result"
    }
   ],
   "source": [
    "raw_df.isna().sum()"
   ]
  },
  {
   "cell_type": "code",
   "execution_count": 7,
   "metadata": {},
   "outputs": [
    {
     "data": {
      "text/plain": [
       "(12756, 23)"
      ]
     },
     "execution_count": 7,
     "metadata": {},
     "output_type": "execute_result"
    }
   ],
   "source": [
    "raw_df.shape"
   ]
  },
  {
   "cell_type": "code",
   "execution_count": 241,
   "metadata": {},
   "outputs": [
    {
     "data": {
      "text/plain": [
       "Female    0.604735\n",
       "Male      0.395265\n",
       "Name: GENDER, dtype: float64"
      ]
     },
     "execution_count": 241,
     "metadata": {},
     "output_type": "execute_result"
    }
   ],
   "source": [
    "raw_df.GENDER.value_counts(normalize = True)"
   ]
  },
  {
   "cell_type": "code",
   "execution_count": 9,
   "metadata": {},
   "outputs": [
    {
     "data": {
      "text/plain": [
       "Female    7714\n",
       "Male      5042\n",
       "Name: GENDER, dtype: int64"
      ]
     },
     "execution_count": 9,
     "metadata": {},
     "output_type": "execute_result"
    }
   ],
   "source": [
    "raw_df.GENDER.value_counts()"
   ]
  },
  {
   "cell_type": "code",
   "execution_count": 52,
   "metadata": {},
   "outputs": [
    {
     "data": {
      "text/plain": [
       "21 to 35        4898\n",
       "36 to 50        3608\n",
       "51 or more      2688\n",
       "Less than 20    1561\n",
       "Name: AGE, dtype: int64"
      ]
     },
     "execution_count": 52,
     "metadata": {},
     "output_type": "execute_result"
    }
   ],
   "source": [
    "raw_df.AGE.value_counts()"
   ]
  },
  {
   "cell_type": "code",
   "execution_count": 53,
   "metadata": {},
   "outputs": [
    {
     "data": {
      "text/plain": [
       "21 to 35        0.384006\n",
       "36 to 50        0.282869\n",
       "51 or more      0.210741\n",
       "Less than 20    0.122383\n",
       "Name: AGE, dtype: float64"
      ]
     },
     "execution_count": 53,
     "metadata": {},
     "output_type": "execute_result"
    }
   ],
   "source": [
    "raw_df.AGE.value_counts(normalize = True)"
   ]
  },
  {
   "cell_type": "code",
   "execution_count": 10,
   "metadata": {},
   "outputs": [
    {
     "name": "stdout",
     "output_type": "stream",
     "text": [
      "<class 'pandas.core.frame.DataFrame'>\n",
      "RangeIndex: 12756 entries, 0 to 12755\n",
      "Data columns (total 23 columns):\n",
      " #   Column             Non-Null Count  Dtype \n",
      "---  ------             --------------  ----- \n",
      " 0   Timestamp          12756 non-null  object\n",
      " 1   FRUITS_VEGGIES     12756 non-null  int64 \n",
      " 2   DAILY_STRESS       12756 non-null  object\n",
      " 3   PLACES_VISITED     12756 non-null  int64 \n",
      " 4   CORE_CIRCLE        12756 non-null  int64 \n",
      " 5   SUPPORTING_OTHERS  12756 non-null  int64 \n",
      " 6   SOCIAL_NETWORK     12756 non-null  int64 \n",
      " 7   ACHIEVEMENT        12756 non-null  int64 \n",
      " 8   DONATION           12756 non-null  int64 \n",
      " 9   BMI_RANGE          12756 non-null  int64 \n",
      " 10  TODO_COMPLETED     12756 non-null  int64 \n",
      " 11  FLOW               12756 non-null  int64 \n",
      " 12  DAILY_STEPS        12756 non-null  int64 \n",
      " 13  LIVE_VISION        12756 non-null  int64 \n",
      " 14  SLEEP_HOURS        12756 non-null  int64 \n",
      " 15  LOST_VACATION      12756 non-null  int64 \n",
      " 16  DAILY_SHOUTING     12756 non-null  int64 \n",
      " 17  SUFFICIENT_INCOME  12756 non-null  int64 \n",
      " 18  PERSONAL_AWARDS    12756 non-null  int64 \n",
      " 19  TIME_FOR_PASSION   12756 non-null  int64 \n",
      " 20  DAILY_MEDITATION   12756 non-null  int64 \n",
      " 21  AGE                12756 non-null  object\n",
      " 22  GENDER             12756 non-null  object\n",
      "dtypes: int64(19), object(4)\n",
      "memory usage: 2.0+ MB\n"
     ]
    }
   ],
   "source": [
    "raw_df.info()"
   ]
  },
  {
   "cell_type": "code",
   "execution_count": 339,
   "metadata": {},
   "outputs": [],
   "source": [
    "raw_df.BMI_RANGE = np.where(raw_df.BMI_RANGE == 1, 0,1)"
   ]
  },
  {
   "cell_type": "code",
   "execution_count": 340,
   "metadata": {},
   "outputs": [],
   "source": [
    "raw_df.SUFFICIENT_INCOME = np.where(raw_df.SUFFICIENT_INCOME == 1, 0,1)"
   ]
  },
  {
   "cell_type": "code",
   "execution_count": 341,
   "metadata": {},
   "outputs": [],
   "source": [
    "raw_df.Timestamp = pd.to_datetime(raw_df.Timestamp)"
   ]
  },
  {
   "cell_type": "code",
   "execution_count": 245,
   "metadata": {},
   "outputs": [
    {
     "data": {
      "text/plain": [
       "array(['36 to 50', '51 or more', '21 to 35', 'Less than 20'], dtype=object)"
      ]
     },
     "execution_count": 245,
     "metadata": {},
     "output_type": "execute_result"
    }
   ],
   "source": [
    "raw_df.AGE.unique()"
   ]
  },
  {
   "cell_type": "code",
   "execution_count": 342,
   "metadata": {},
   "outputs": [],
   "source": [
    "#Strange value in raw_df for DAILY_STRESS\n",
    "raw_df.drop(raw_df.loc[raw_df.DAILY_STRESS == '1/1/00'].index, inplace = True)"
   ]
  },
  {
   "cell_type": "code",
   "execution_count": 343,
   "metadata": {},
   "outputs": [],
   "source": [
    "raw_df.DAILY_STRESS = raw_df.DAILY_STRESS.astype('int64')"
   ]
  },
  {
   "cell_type": "markdown",
   "metadata": {},
   "source": [
    "## DATA EXPLORATION"
   ]
  },
  {
   "cell_type": "code",
   "execution_count": 617,
   "metadata": {},
   "outputs": [
    {
     "data": {
      "text/plain": [
       "<matplotlib.axes._subplots.AxesSubplot at 0x15ca1940>"
      ]
     },
     "execution_count": 617,
     "metadata": {},
     "output_type": "execute_result"
    },
    {
     "data": {
      "image/png": "[encoded data removed]",
      "text/plain": [
       "<Figure size 1080x360 with 1 Axes>"
      ]
     },
     "metadata": {
      "needs_background": "light"
     },
     "output_type": "display_data"
    }
   ],
   "source": [
    "raw_df.boxplot(figsize=(15,5), rot=90)"
   ]
  },
  {
   "cell_type": "code",
   "execution_count": 363,
   "metadata": {},
   "outputs": [
    {
     "data": {
      "text/plain": [
       "FRUITS_VEGGIES        2\n",
       "DAILY_STRESS          3\n",
       "PLACES_VISITED        4\n",
       "CORE_CIRCLE           3\n",
       "SUPPORTING_OTHERS     8\n",
       "SOCIAL_NETWORK       10\n",
       "ACHIEVEMENT           5\n",
       "DONATION              2\n",
       "BMI_RANGE             1\n",
       "TODO_COMPLETED        5\n",
       "FLOW                  2\n",
       "DAILY_STEPS           5\n",
       "LIVE_VISION           5\n",
       "SLEEP_HOURS           8\n",
       "LOST_VACATION         2\n",
       "DAILY_SHOUTING        2\n",
       "SUFFICIENT_INCOME     1\n",
       "PERSONAL_AWARDS       3\n",
       "TIME_FOR_PASSION      2\n",
       "DAILY_MEDITATION      6\n",
       "Name: 1, dtype: int64"
      ]
     },
     "execution_count": 363,
     "metadata": {},
     "output_type": "execute_result"
    }
   ],
   "source": [
    "#Looking at the first row\n",
    "raw_df.loc[1]"
   ]
  },
  {
   "cell_type": "code",
   "execution_count": 618,
   "metadata": {},
   "outputs": [
    {
     "data": {
      "text/plain": [
       "<matplotlib.axes._subplots.AxesSubplot at 0x15ca18f8>"
      ]
     },
     "execution_count": 618,
     "metadata": {},
     "output_type": "execute_result"
    },
    {
     "data": {
      "image/png": "[encoded data removed]",
      "text/plain": [
       "<Figure size 432x288 with 1 Axes>"
      ]
     },
     "metadata": {
      "needs_background": "light"
     },
     "output_type": "display_data"
    }
   ],
   "source": [
    "sns.countplot(raw_df.GENDER)"
   ]
  },
  {
   "cell_type": "code",
   "execution_count": 619,
   "metadata": {},
   "outputs": [
    {
     "data": {
      "text/plain": [
       "<matplotlib.axes._subplots.AxesSubplot at 0x1ea6d040>"
      ]
     },
     "execution_count": 619,
     "metadata": {},
     "output_type": "execute_result"
    },
    {
     "data": {
      "image/png": "[encoded data removed]",
      "text/plain": [
       "<Figure size 432x288 with 1 Axes>"
      ]
     },
     "metadata": {
      "needs_background": "light"
     },
     "output_type": "display_data"
    }
   ],
   "source": [
    "sns.countplot(raw_df.AGE)"
   ]
  },
  {
   "cell_type": "code",
   "execution_count": 620,
   "metadata": {},
   "outputs": [
    {
     "data": {
      "text/html": [
       "<div>\n",
       "<style scoped>\n",
       "    .dataframe tbody tr th:only-of-type {\n",
       "        vertical-align: middle;\n",
       "    }\n",
       "\n",
       "    .dataframe tbody tr th {\n",
       "        vertical-align: top;\n",
       "    }\n",
       "\n",
       "    .dataframe thead th {\n",
       "        text-align: right;\n",
       "    }\n",
       "</style>\n",
       "<table border=\"1\" class=\"dataframe\">\n",
       "  <thead>\n",
       "    <tr style=\"text-align: right;\">\n",
       "      <th></th>\n",
       "      <th>FRUITS_VEGGIES</th>\n",
       "      <th>DAILY_STRESS</th>\n",
       "      <th>PLACES_VISITED</th>\n",
       "      <th>CORE_CIRCLE</th>\n",
       "      <th>SUPPORTING_OTHERS</th>\n",
       "      <th>SOCIAL_NETWORK</th>\n",
       "      <th>ACHIEVEMENT</th>\n",
       "      <th>DONATION</th>\n",
       "      <th>BMI_RANGE</th>\n",
       "      <th>TODO_COMPLETED</th>\n",
       "      <th>FLOW</th>\n",
       "      <th>DAILY_STEPS</th>\n",
       "      <th>LIVE_VISION</th>\n",
       "      <th>SLEEP_HOURS</th>\n",
       "      <th>LOST_VACATION</th>\n",
       "      <th>DAILY_SHOUTING</th>\n",
       "      <th>SUFFICIENT_INCOME</th>\n",
       "      <th>PERSONAL_AWARDS</th>\n",
       "      <th>TIME_FOR_PASSION</th>\n",
       "      <th>DAILY_MEDITATION</th>\n",
       "    </tr>\n",
       "  </thead>\n",
       "  <tbody>\n",
       "    <tr>\n",
       "      <th>count</th>\n",
       "      <td>12755.000000</td>\n",
       "      <td>12755.000000</td>\n",
       "      <td>12755.000000</td>\n",
       "      <td>12755.000000</td>\n",
       "      <td>12755.000000</td>\n",
       "      <td>12755.000000</td>\n",
       "      <td>12755.000000</td>\n",
       "      <td>12755.000000</td>\n",
       "      <td>12755.000000</td>\n",
       "      <td>12755.000000</td>\n",
       "      <td>12755.000000</td>\n",
       "      <td>12755.000000</td>\n",
       "      <td>12755.000000</td>\n",
       "      <td>12755.000000</td>\n",
       "      <td>12755.000000</td>\n",
       "      <td>12755.000000</td>\n",
       "      <td>12755.000000</td>\n",
       "      <td>12755.000000</td>\n",
       "      <td>12755.000000</td>\n",
       "      <td>12755.000000</td>\n",
       "    </tr>\n",
       "    <tr>\n",
       "      <th>mean</th>\n",
       "      <td>2.930223</td>\n",
       "      <td>2.782673</td>\n",
       "      <td>5.339240</td>\n",
       "      <td>5.484908</td>\n",
       "      <td>5.577421</td>\n",
       "      <td>6.551156</td>\n",
       "      <td>3.963230</td>\n",
       "      <td>2.700745</td>\n",
       "      <td>0.400706</td>\n",
       "      <td>5.706233</td>\n",
       "      <td>3.126382</td>\n",
       "      <td>5.704822</td>\n",
       "      <td>3.712034</td>\n",
       "      <td>7.035202</td>\n",
       "      <td>2.832536</td>\n",
       "      <td>2.920659</td>\n",
       "      <td>0.728185</td>\n",
       "      <td>5.702626</td>\n",
       "      <td>3.266484</td>\n",
       "      <td>6.253156</td>\n",
       "    </tr>\n",
       "    <tr>\n",
       "      <th>std</th>\n",
       "      <td>1.452016</td>\n",
       "      <td>1.372733</td>\n",
       "      <td>3.313942</td>\n",
       "      <td>2.851533</td>\n",
       "      <td>3.262379</td>\n",
       "      <td>3.083890</td>\n",
       "      <td>2.752132</td>\n",
       "      <td>1.863895</td>\n",
       "      <td>0.490061</td>\n",
       "      <td>2.633368</td>\n",
       "      <td>2.334573</td>\n",
       "      <td>2.885452</td>\n",
       "      <td>3.244412</td>\n",
       "      <td>1.202201</td>\n",
       "      <td>3.671601</td>\n",
       "      <td>2.689803</td>\n",
       "      <td>0.444912</td>\n",
       "      <td>3.108526</td>\n",
       "      <td>2.721211</td>\n",
       "      <td>3.034866</td>\n",
       "    </tr>\n",
       "    <tr>\n",
       "      <th>min</th>\n",
       "      <td>0.000000</td>\n",
       "      <td>0.000000</td>\n",
       "      <td>0.000000</td>\n",
       "      <td>0.000000</td>\n",
       "      <td>0.000000</td>\n",
       "      <td>0.000000</td>\n",
       "      <td>0.000000</td>\n",
       "      <td>0.000000</td>\n",
       "      <td>0.000000</td>\n",
       "      <td>0.000000</td>\n",
       "      <td>0.000000</td>\n",
       "      <td>1.000000</td>\n",
       "      <td>0.000000</td>\n",
       "      <td>1.000000</td>\n",
       "      <td>0.000000</td>\n",
       "      <td>0.000000</td>\n",
       "      <td>0.000000</td>\n",
       "      <td>0.000000</td>\n",
       "      <td>0.000000</td>\n",
       "      <td>0.000000</td>\n",
       "    </tr>\n",
       "    <tr>\n",
       "      <th>25%</th>\n",
       "      <td>2.000000</td>\n",
       "      <td>2.000000</td>\n",
       "      <td>3.000000</td>\n",
       "      <td>3.000000</td>\n",
       "      <td>3.000000</td>\n",
       "      <td>4.000000</td>\n",
       "      <td>2.000000</td>\n",
       "      <td>1.000000</td>\n",
       "      <td>0.000000</td>\n",
       "      <td>4.000000</td>\n",
       "      <td>1.000000</td>\n",
       "      <td>3.000000</td>\n",
       "      <td>1.000000</td>\n",
       "      <td>6.000000</td>\n",
       "      <td>0.000000</td>\n",
       "      <td>1.000000</td>\n",
       "      <td>0.000000</td>\n",
       "      <td>3.000000</td>\n",
       "      <td>1.000000</td>\n",
       "      <td>4.000000</td>\n",
       "    </tr>\n",
       "    <tr>\n",
       "      <th>50%</th>\n",
       "      <td>3.000000</td>\n",
       "      <td>3.000000</td>\n",
       "      <td>5.000000</td>\n",
       "      <td>5.000000</td>\n",
       "      <td>5.000000</td>\n",
       "      <td>6.000000</td>\n",
       "      <td>3.000000</td>\n",
       "      <td>3.000000</td>\n",
       "      <td>0.000000</td>\n",
       "      <td>6.000000</td>\n",
       "      <td>3.000000</td>\n",
       "      <td>5.000000</td>\n",
       "      <td>3.000000</td>\n",
       "      <td>7.000000</td>\n",
       "      <td>0.000000</td>\n",
       "      <td>2.000000</td>\n",
       "      <td>1.000000</td>\n",
       "      <td>5.000000</td>\n",
       "      <td>2.000000</td>\n",
       "      <td>7.000000</td>\n",
       "    </tr>\n",
       "    <tr>\n",
       "      <th>75%</th>\n",
       "      <td>4.000000</td>\n",
       "      <td>4.000000</td>\n",
       "      <td>8.000000</td>\n",
       "      <td>8.000000</td>\n",
       "      <td>10.000000</td>\n",
       "      <td>10.000000</td>\n",
       "      <td>6.000000</td>\n",
       "      <td>5.000000</td>\n",
       "      <td>1.000000</td>\n",
       "      <td>8.000000</td>\n",
       "      <td>4.000000</td>\n",
       "      <td>8.000000</td>\n",
       "      <td>5.000000</td>\n",
       "      <td>8.000000</td>\n",
       "      <td>5.000000</td>\n",
       "      <td>4.000000</td>\n",
       "      <td>1.000000</td>\n",
       "      <td>9.000000</td>\n",
       "      <td>5.000000</td>\n",
       "      <td>10.000000</td>\n",
       "    </tr>\n",
       "    <tr>\n",
       "      <th>max</th>\n",
       "      <td>5.000000</td>\n",
       "      <td>5.000000</td>\n",
       "      <td>10.000000</td>\n",
       "      <td>10.000000</td>\n",
       "      <td>10.000000</td>\n",
       "      <td>10.000000</td>\n",
       "      <td>10.000000</td>\n",
       "      <td>5.000000</td>\n",
       "      <td>1.000000</td>\n",
       "      <td>10.000000</td>\n",
       "      <td>10.000000</td>\n",
       "      <td>10.000000</td>\n",
       "      <td>10.000000</td>\n",
       "      <td>10.000000</td>\n",
       "      <td>10.000000</td>\n",
       "      <td>10.000000</td>\n",
       "      <td>1.000000</td>\n",
       "      <td>10.000000</td>\n",
       "      <td>10.000000</td>\n",
       "      <td>10.000000</td>\n",
       "    </tr>\n",
       "  </tbody>\n",
       "</table>\n",
       "</div>"
      ],
      "text/plain": [
       "       FRUITS_VEGGIES  DAILY_STRESS  PLACES_VISITED   CORE_CIRCLE  \\\n",
       "count    12755.000000  12755.000000    12755.000000  12755.000000   \n",
       "mean         2.930223      2.782673        5.339240      5.484908   \n",
       "std          1.452016      1.372733        3.313942      2.851533   \n",
       "min          0.000000      0.000000        0.000000      0.000000   \n",
       "25%          2.000000      2.000000        3.000000      3.000000   \n",
       "50%          3.000000      3.000000        5.000000      5.000000   \n",
       "75%          4.000000      4.000000        8.000000      8.000000   \n",
       "max          5.000000      5.000000       10.000000     10.000000   \n",
       "\n",
       "       SUPPORTING_OTHERS  SOCIAL_NETWORK   ACHIEVEMENT      DONATION  \\\n",
       "count       12755.000000    12755.000000  12755.000000  12755.000000   \n",
       "mean            5.577421        6.551156      3.963230      2.700745   \n",
       "std             3.262379        3.083890      2.752132      1.863895   \n",
       "min             0.000000        0.000000      0.000000      0.000000   \n",
       "25%             3.000000        4.000000      2.000000      1.000000   \n",
       "50%             5.000000        6.000000      3.000000      3.000000   \n",
       "75%            10.000000       10.000000      6.000000      5.000000   \n",
       "max            10.000000       10.000000     10.000000      5.000000   \n",
       "\n",
       "          BMI_RANGE  TODO_COMPLETED          FLOW   DAILY_STEPS   LIVE_VISION  \\\n",
       "count  12755.000000    12755.000000  12755.000000  12755.000000  12755.000000   \n",
       "mean       0.400706        5.706233      3.126382      5.704822      3.712034   \n",
       "std        0.490061        2.633368      2.334573      2.885452      3.244412   \n",
       "min        0.000000        0.000000      0.000000      1.000000      0.000000   \n",
       "25%        0.000000        4.000000      1.000000      3.000000      1.000000   \n",
       "50%        0.000000        6.000000      3.000000      5.000000      3.000000   \n",
       "75%        1.000000        8.000000      4.000000      8.000000      5.000000   \n",
       "max        1.000000       10.000000     10.000000     10.000000     10.000000   \n",
       "\n",
       "        SLEEP_HOURS  LOST_VACATION  DAILY_SHOUTING  SUFFICIENT_INCOME  \\\n",
       "count  12755.000000   12755.000000    12755.000000       12755.000000   \n",
       "mean       7.035202       2.832536        2.920659           0.728185   \n",
       "std        1.202201       3.671601        2.689803           0.444912   \n",
       "min        1.000000       0.000000        0.000000           0.000000   \n",
       "25%        6.000000       0.000000        1.000000           0.000000   \n",
       "50%        7.000000       0.000000        2.000000           1.000000   \n",
       "75%        8.000000       5.000000        4.000000           1.000000   \n",
       "max       10.000000      10.000000       10.000000           1.000000   \n",
       "\n",
       "       PERSONAL_AWARDS  TIME_FOR_PASSION  DAILY_MEDITATION  \n",
       "count     12755.000000      12755.000000      12755.000000  \n",
       "mean          5.702626          3.266484          6.253156  \n",
       "std           3.108526          2.721211          3.034866  \n",
       "min           0.000000          0.000000          0.000000  \n",
       "25%           3.000000          1.000000          4.000000  \n",
       "50%           5.000000          2.000000          7.000000  \n",
       "75%           9.000000          5.000000         10.000000  \n",
       "max          10.000000         10.000000         10.000000  "
      ]
     },
     "execution_count": 620,
     "metadata": {},
     "output_type": "execute_result"
    }
   ],
   "source": [
    "raw_df.describe()"
   ]
  },
  {
   "cell_type": "code",
   "execution_count": 34,
   "metadata": {},
   "outputs": [
    {
     "data": {
      "text/plain": [
       "2016    3328\n",
       "2017    2769\n",
       "2019    2251\n",
       "2015    2013\n",
       "2018    1936\n",
       "2020     459\n",
       "Name: Timestamp, dtype: int64"
      ]
     },
     "execution_count": 34,
     "metadata": {},
     "output_type": "execute_result"
    }
   ],
   "source": [
    "raw_df.Timestamp.dt.year.value_counts()"
   ]
  },
  {
   "cell_type": "code",
   "execution_count": 37,
   "metadata": {},
   "outputs": [
    {
     "data": {
      "text/plain": [
       "<matplotlib.axes._subplots.AxesSubplot at 0x20d4de47bc8>"
      ]
     },
     "execution_count": 37,
     "metadata": {},
     "output_type": "execute_result"
    },
    {
     "data": {
      "image/png": "[encoded data removed]",
      "text/plain": [
       "<Figure size 432x288 with 1 Axes>"
      ]
     },
     "metadata": {
      "needs_background": "light"
     },
     "output_type": "display_data"
    }
   ],
   "source": [
    "plt.title('Years of answers')\n",
    "sns.countplot(raw_df.Timestamp.dt.year)"
   ]
  },
  {
   "cell_type": "code",
   "execution_count": 49,
   "metadata": {},
   "outputs": [
    {
     "data": {
      "text/plain": [
       "<seaborn.axisgrid.FacetGrid at 0x1d3827c0>"
      ]
     },
     "execution_count": 49,
     "metadata": {},
     "output_type": "execute_result"
    },
    {
     "data": {
      "image/png": "[encoded data removed]",
      "text/plain": [
       "<Figure size 720x360 with 2 Axes>"
      ]
     },
     "metadata": {
      "needs_background": "light"
     },
     "output_type": "display_data"
    }
   ],
   "source": [
    "sns.catplot(x = 'DAILY_STRESS', col=\"GENDER\", data = raw_df, kind='count')"
   ]
  },
  {
   "cell_type": "code",
   "execution_count": 51,
   "metadata": {},
   "outputs": [
    {
     "data": {
      "text/plain": [
       "<seaborn.axisgrid.FacetGrid at 0x2001b4a8>"
      ]
     },
     "execution_count": 51,
     "metadata": {},
     "output_type": "execute_result"
    },
    {
     "data": {
      "image/png": "[encoded data removed]",
      "text/plain": [
       "<Figure size 1440x360 with 4 Axes>"
      ]
     },
     "metadata": {
      "needs_background": "light"
     },
     "output_type": "display_data"
    }
   ],
   "source": [
    "sns.catplot(x = 'DAILY_STRESS', col = 'AGE', data = raw_df, kind='count')"
   ]
  },
  {
   "cell_type": "markdown",
   "metadata": {},
   "source": [
    "### Dummies"
   ]
  },
  {
   "cell_type": "code",
   "execution_count": 344,
   "metadata": {},
   "outputs": [],
   "source": [
    "#Transform the age and gender columns into dummies\n",
    "dummies_df = pd.get_dummies(raw_df[['GENDER', 'AGE']], prefix=['GENDER', 'AGE'], drop_first = True)"
   ]
  },
  {
   "cell_type": "code",
   "execution_count": 345,
   "metadata": {},
   "outputs": [],
   "source": [
    "raw_df.drop(['Timestamp', 'GENDER', 'AGE'], axis=1, inplace=True)"
   ]
  },
  {
   "cell_type": "markdown",
   "metadata": {},
   "source": [
    "#### Now we have a cleaner dataframe to work on :"
   ]
  },
  {
   "cell_type": "code",
   "execution_count": 52,
   "metadata": {},
   "outputs": [
    {
     "data": {
      "text/plain": [
       "<matplotlib.axes._subplots.AxesSubplot at 0x20d4e29dc48>"
      ]
     },
     "execution_count": 52,
     "metadata": {},
     "output_type": "execute_result"
    },
    {
     "data": {
      "image/png": "[encoded data removed]",
      "text/plain": [
       "<Figure size 432x288 with 2 Axes>"
      ]
     },
     "metadata": {
      "needs_background": "light"
     },
     "output_type": "display_data"
    }
   ],
   "source": [
    "sns.heatmap(data=df.corr())"
   ]
  },
  {
   "cell_type": "code",
   "execution_count": 403,
   "metadata": {},
   "outputs": [
    {
     "data": {
      "text/html": [
       "<div>\n",
       "<style scoped>\n",
       "    .dataframe tbody tr th:only-of-type {\n",
       "        vertical-align: middle;\n",
       "    }\n",
       "\n",
       "    .dataframe tbody tr th {\n",
       "        vertical-align: top;\n",
       "    }\n",
       "\n",
       "    .dataframe thead th {\n",
       "        text-align: right;\n",
       "    }\n",
       "</style>\n",
       "<table border=\"1\" class=\"dataframe\">\n",
       "  <thead>\n",
       "    <tr style=\"text-align: right;\">\n",
       "      <th></th>\n",
       "      <th>FRUITS_VEGGIES</th>\n",
       "      <th>PLACES_VISITED</th>\n",
       "      <th>CORE_CIRCLE</th>\n",
       "      <th>SUPPORTING_OTHERS</th>\n",
       "      <th>SOCIAL_NETWORK</th>\n",
       "      <th>ACHIEVEMENT</th>\n",
       "      <th>DONATION</th>\n",
       "      <th>BMI_RANGE</th>\n",
       "      <th>TODO_COMPLETED</th>\n",
       "      <th>FLOW</th>\n",
       "      <th>...</th>\n",
       "      <th>DAILY_SHOUTING</th>\n",
       "      <th>SUFFICIENT_INCOME</th>\n",
       "      <th>PERSONAL_AWARDS</th>\n",
       "      <th>TIME_FOR_PASSION</th>\n",
       "      <th>DAILY_MEDITATION</th>\n",
       "      <th>DAILY_STRESS</th>\n",
       "      <th>GENDER_Male</th>\n",
       "      <th>AGE_36 to 50</th>\n",
       "      <th>AGE_51 or more</th>\n",
       "      <th>AGE_Less than 20</th>\n",
       "    </tr>\n",
       "  </thead>\n",
       "  <tbody>\n",
       "    <tr>\n",
       "      <th>FRUITS_VEGGIES</th>\n",
       "      <td>1.000000</td>\n",
       "      <td>0.248521</td>\n",
       "      <td>0.153614</td>\n",
       "      <td>0.207908</td>\n",
       "      <td>0.105831</td>\n",
       "      <td>0.166652</td>\n",
       "      <td>0.200794</td>\n",
       "      <td>-0.091937</td>\n",
       "      <td>0.230356</td>\n",
       "      <td>0.136239</td>\n",
       "      <td>...</td>\n",
       "      <td>-0.071101</td>\n",
       "      <td>0.151258</td>\n",
       "      <td>0.165587</td>\n",
       "      <td>0.171532</td>\n",
       "      <td>0.195067</td>\n",
       "      <td>-0.068186</td>\n",
       "      <td>-0.101748</td>\n",
       "      <td>0.039057</td>\n",
       "      <td>0.125598</td>\n",
       "      <td>-0.053888</td>\n",
       "    </tr>\n",
       "    <tr>\n",
       "      <th>PLACES_VISITED</th>\n",
       "      <td>0.248521</td>\n",
       "      <td>1.000000</td>\n",
       "      <td>0.260027</td>\n",
       "      <td>0.255018</td>\n",
       "      <td>0.157728</td>\n",
       "      <td>0.264932</td>\n",
       "      <td>0.212622</td>\n",
       "      <td>-0.103668</td>\n",
       "      <td>0.234081</td>\n",
       "      <td>0.154863</td>\n",
       "      <td>...</td>\n",
       "      <td>-0.089083</td>\n",
       "      <td>0.173347</td>\n",
       "      <td>0.279592</td>\n",
       "      <td>0.198310</td>\n",
       "      <td>0.203308</td>\n",
       "      <td>-0.098474</td>\n",
       "      <td>-0.039995</td>\n",
       "      <td>-0.004859</td>\n",
       "      <td>-0.012253</td>\n",
       "      <td>-0.028541</td>\n",
       "    </tr>\n",
       "    <tr>\n",
       "      <th>CORE_CIRCLE</th>\n",
       "      <td>0.153614</td>\n",
       "      <td>0.260027</td>\n",
       "      <td>1.000000</td>\n",
       "      <td>0.338628</td>\n",
       "      <td>0.304859</td>\n",
       "      <td>0.292492</td>\n",
       "      <td>0.220277</td>\n",
       "      <td>-0.025831</td>\n",
       "      <td>0.222432</td>\n",
       "      <td>0.243491</td>\n",
       "      <td>...</td>\n",
       "      <td>-0.076207</td>\n",
       "      <td>0.122592</td>\n",
       "      <td>0.250260</td>\n",
       "      <td>0.227561</td>\n",
       "      <td>0.103707</td>\n",
       "      <td>-0.093381</td>\n",
       "      <td>-0.077187</td>\n",
       "      <td>0.009020</td>\n",
       "      <td>-0.004482</td>\n",
       "      <td>0.035301</td>\n",
       "    </tr>\n",
       "    <tr>\n",
       "      <th>SUPPORTING_OTHERS</th>\n",
       "      <td>0.207908</td>\n",
       "      <td>0.255018</td>\n",
       "      <td>0.338628</td>\n",
       "      <td>1.000000</td>\n",
       "      <td>0.311311</td>\n",
       "      <td>0.359061</td>\n",
       "      <td>0.394246</td>\n",
       "      <td>0.027590</td>\n",
       "      <td>0.252195</td>\n",
       "      <td>0.266956</td>\n",
       "      <td>...</td>\n",
       "      <td>-0.064181</td>\n",
       "      <td>0.115801</td>\n",
       "      <td>0.333640</td>\n",
       "      <td>0.322819</td>\n",
       "      <td>0.149158</td>\n",
       "      <td>-0.028220</td>\n",
       "      <td>-0.107018</td>\n",
       "      <td>0.072757</td>\n",
       "      <td>0.105104</td>\n",
       "      <td>-0.090889</td>\n",
       "    </tr>\n",
       "    <tr>\n",
       "      <th>SOCIAL_NETWORK</th>\n",
       "      <td>0.105831</td>\n",
       "      <td>0.157728</td>\n",
       "      <td>0.304859</td>\n",
       "      <td>0.311311</td>\n",
       "      <td>1.000000</td>\n",
       "      <td>0.252535</td>\n",
       "      <td>0.147856</td>\n",
       "      <td>0.016990</td>\n",
       "      <td>0.212186</td>\n",
       "      <td>0.240474</td>\n",
       "      <td>...</td>\n",
       "      <td>-0.010240</td>\n",
       "      <td>0.131991</td>\n",
       "      <td>0.214812</td>\n",
       "      <td>0.202697</td>\n",
       "      <td>-0.006727</td>\n",
       "      <td>0.009942</td>\n",
       "      <td>-0.044677</td>\n",
       "      <td>0.049321</td>\n",
       "      <td>-0.055458</td>\n",
       "      <td>0.101630</td>\n",
       "    </tr>\n",
       "    <tr>\n",
       "      <th>ACHIEVEMENT</th>\n",
       "      <td>0.166652</td>\n",
       "      <td>0.264932</td>\n",
       "      <td>0.292492</td>\n",
       "      <td>0.359061</td>\n",
       "      <td>0.252535</td>\n",
       "      <td>1.000000</td>\n",
       "      <td>0.236619</td>\n",
       "      <td>-0.034213</td>\n",
       "      <td>0.309391</td>\n",
       "      <td>0.389587</td>\n",
       "      <td>...</td>\n",
       "      <td>-0.066316</td>\n",
       "      <td>0.117234</td>\n",
       "      <td>0.400318</td>\n",
       "      <td>0.374000</td>\n",
       "      <td>0.172787</td>\n",
       "      <td>-0.101242</td>\n",
       "      <td>-0.000236</td>\n",
       "      <td>0.002265</td>\n",
       "      <td>0.012342</td>\n",
       "      <td>0.050065</td>\n",
       "    </tr>\n",
       "    <tr>\n",
       "      <th>DONATION</th>\n",
       "      <td>0.200794</td>\n",
       "      <td>0.212622</td>\n",
       "      <td>0.220277</td>\n",
       "      <td>0.394246</td>\n",
       "      <td>0.147856</td>\n",
       "      <td>0.236619</td>\n",
       "      <td>1.000000</td>\n",
       "      <td>0.059698</td>\n",
       "      <td>0.189926</td>\n",
       "      <td>0.162083</td>\n",
       "      <td>...</td>\n",
       "      <td>-0.054699</td>\n",
       "      <td>0.124178</td>\n",
       "      <td>0.274375</td>\n",
       "      <td>0.188788</td>\n",
       "      <td>0.150506</td>\n",
       "      <td>-0.026715</td>\n",
       "      <td>-0.098484</td>\n",
       "      <td>0.065882</td>\n",
       "      <td>0.144281</td>\n",
       "      <td>-0.102634</td>\n",
       "    </tr>\n",
       "    <tr>\n",
       "      <th>BMI_RANGE</th>\n",
       "      <td>-0.091937</td>\n",
       "      <td>-0.103668</td>\n",
       "      <td>-0.025831</td>\n",
       "      <td>0.027590</td>\n",
       "      <td>0.016990</td>\n",
       "      <td>-0.034213</td>\n",
       "      <td>0.059698</td>\n",
       "      <td>1.000000</td>\n",
       "      <td>-0.067518</td>\n",
       "      <td>0.011722</td>\n",
       "      <td>...</td>\n",
       "      <td>0.054484</td>\n",
       "      <td>-0.014403</td>\n",
       "      <td>0.016337</td>\n",
       "      <td>-0.023936</td>\n",
       "      <td>-0.070886</td>\n",
       "      <td>0.060428</td>\n",
       "      <td>-0.003638</td>\n",
       "      <td>0.071452</td>\n",
       "      <td>0.106414</td>\n",
       "      <td>-0.120851</td>\n",
       "    </tr>\n",
       "    <tr>\n",
       "      <th>TODO_COMPLETED</th>\n",
       "      <td>0.230356</td>\n",
       "      <td>0.234081</td>\n",
       "      <td>0.222432</td>\n",
       "      <td>0.252195</td>\n",
       "      <td>0.212186</td>\n",
       "      <td>0.309391</td>\n",
       "      <td>0.189926</td>\n",
       "      <td>-0.067518</td>\n",
       "      <td>1.000000</td>\n",
       "      <td>0.302304</td>\n",
       "      <td>...</td>\n",
       "      <td>-0.145570</td>\n",
       "      <td>0.203418</td>\n",
       "      <td>0.249884</td>\n",
       "      <td>0.278042</td>\n",
       "      <td>0.181972</td>\n",
       "      <td>-0.132565</td>\n",
       "      <td>-0.077819</td>\n",
       "      <td>0.014638</td>\n",
       "      <td>0.071992</td>\n",
       "      <td>-0.041394</td>\n",
       "    </tr>\n",
       "    <tr>\n",
       "      <th>FLOW</th>\n",
       "      <td>0.136239</td>\n",
       "      <td>0.154863</td>\n",
       "      <td>0.243491</td>\n",
       "      <td>0.266956</td>\n",
       "      <td>0.240474</td>\n",
       "      <td>0.389587</td>\n",
       "      <td>0.162083</td>\n",
       "      <td>0.011722</td>\n",
       "      <td>0.302304</td>\n",
       "      <td>1.000000</td>\n",
       "      <td>...</td>\n",
       "      <td>-0.080179</td>\n",
       "      <td>0.086963</td>\n",
       "      <td>0.217949</td>\n",
       "      <td>0.482736</td>\n",
       "      <td>0.145928</td>\n",
       "      <td>-0.119583</td>\n",
       "      <td>-0.004752</td>\n",
       "      <td>-0.021673</td>\n",
       "      <td>0.013381</td>\n",
       "      <td>0.037032</td>\n",
       "    </tr>\n",
       "    <tr>\n",
       "      <th>DAILY_STEPS</th>\n",
       "      <td>0.243607</td>\n",
       "      <td>0.196328</td>\n",
       "      <td>0.151149</td>\n",
       "      <td>0.145228</td>\n",
       "      <td>0.213710</td>\n",
       "      <td>0.193295</td>\n",
       "      <td>0.107807</td>\n",
       "      <td>-0.128912</td>\n",
       "      <td>0.204824</td>\n",
       "      <td>0.143232</td>\n",
       "      <td>...</td>\n",
       "      <td>-0.031996</td>\n",
       "      <td>0.101736</td>\n",
       "      <td>0.150004</td>\n",
       "      <td>0.146967</td>\n",
       "      <td>0.141677</td>\n",
       "      <td>-0.041278</td>\n",
       "      <td>0.014479</td>\n",
       "      <td>0.002375</td>\n",
       "      <td>-0.010234</td>\n",
       "      <td>0.037553</td>\n",
       "    </tr>\n",
       "    <tr>\n",
       "      <th>LIVE_VISION</th>\n",
       "      <td>0.113970</td>\n",
       "      <td>0.149851</td>\n",
       "      <td>0.216507</td>\n",
       "      <td>0.233595</td>\n",
       "      <td>0.184865</td>\n",
       "      <td>0.316513</td>\n",
       "      <td>0.158219</td>\n",
       "      <td>-0.009079</td>\n",
       "      <td>0.271890</td>\n",
       "      <td>0.300082</td>\n",
       "      <td>...</td>\n",
       "      <td>-0.081183</td>\n",
       "      <td>0.130802</td>\n",
       "      <td>0.206592</td>\n",
       "      <td>0.311016</td>\n",
       "      <td>0.152179</td>\n",
       "      <td>-0.103430</td>\n",
       "      <td>0.017733</td>\n",
       "      <td>-0.017971</td>\n",
       "      <td>0.064467</td>\n",
       "      <td>0.024300</td>\n",
       "    </tr>\n",
       "    <tr>\n",
       "      <th>SLEEP_HOURS</th>\n",
       "      <td>0.105838</td>\n",
       "      <td>0.129621</td>\n",
       "      <td>0.060743</td>\n",
       "      <td>0.013640</td>\n",
       "      <td>-0.029046</td>\n",
       "      <td>0.054833</td>\n",
       "      <td>0.005394</td>\n",
       "      <td>-0.095497</td>\n",
       "      <td>0.118031</td>\n",
       "      <td>0.036871</td>\n",
       "      <td>...</td>\n",
       "      <td>-0.078257</td>\n",
       "      <td>0.047317</td>\n",
       "      <td>0.018511</td>\n",
       "      <td>0.067819</td>\n",
       "      <td>0.164159</td>\n",
       "      <td>-0.120998</td>\n",
       "      <td>-0.034427</td>\n",
       "      <td>-0.042679</td>\n",
       "      <td>-0.020214</td>\n",
       "      <td>0.035456</td>\n",
       "    </tr>\n",
       "    <tr>\n",
       "      <th>LOST_VACATION</th>\n",
       "      <td>-0.069862</td>\n",
       "      <td>-0.124848</td>\n",
       "      <td>-0.083250</td>\n",
       "      <td>-0.026131</td>\n",
       "      <td>0.011867</td>\n",
       "      <td>-0.010978</td>\n",
       "      <td>-0.025643</td>\n",
       "      <td>0.032547</td>\n",
       "      <td>-0.080176</td>\n",
       "      <td>0.000220</td>\n",
       "      <td>...</td>\n",
       "      <td>0.085136</td>\n",
       "      <td>-0.082836</td>\n",
       "      <td>-0.038322</td>\n",
       "      <td>-0.026952</td>\n",
       "      <td>-0.113141</td>\n",
       "      <td>0.153092</td>\n",
       "      <td>0.021975</td>\n",
       "      <td>-0.011275</td>\n",
       "      <td>-0.044703</td>\n",
       "      <td>0.017744</td>\n",
       "    </tr>\n",
       "    <tr>\n",
       "      <th>DAILY_SHOUTING</th>\n",
       "      <td>-0.071101</td>\n",
       "      <td>-0.089083</td>\n",
       "      <td>-0.076207</td>\n",
       "      <td>-0.064181</td>\n",
       "      <td>-0.010240</td>\n",
       "      <td>-0.066316</td>\n",
       "      <td>-0.054699</td>\n",
       "      <td>0.054484</td>\n",
       "      <td>-0.145570</td>\n",
       "      <td>-0.080179</td>\n",
       "      <td>...</td>\n",
       "      <td>1.000000</td>\n",
       "      <td>-0.076225</td>\n",
       "      <td>-0.041742</td>\n",
       "      <td>-0.104968</td>\n",
       "      <td>-0.096085</td>\n",
       "      <td>0.240826</td>\n",
       "      <td>-0.047675</td>\n",
       "      <td>0.059061</td>\n",
       "      <td>-0.101046</td>\n",
       "      <td>0.033352</td>\n",
       "    </tr>\n",
       "    <tr>\n",
       "      <th>SUFFICIENT_INCOME</th>\n",
       "      <td>0.151258</td>\n",
       "      <td>0.173347</td>\n",
       "      <td>0.122592</td>\n",
       "      <td>0.115801</td>\n",
       "      <td>0.131991</td>\n",
       "      <td>0.117234</td>\n",
       "      <td>0.124178</td>\n",
       "      <td>-0.014403</td>\n",
       "      <td>0.203418</td>\n",
       "      <td>0.086963</td>\n",
       "      <td>...</td>\n",
       "      <td>-0.076225</td>\n",
       "      <td>1.000000</td>\n",
       "      <td>0.154048</td>\n",
       "      <td>0.079581</td>\n",
       "      <td>0.071620</td>\n",
       "      <td>-0.125703</td>\n",
       "      <td>0.005383</td>\n",
       "      <td>0.053024</td>\n",
       "      <td>0.097770</td>\n",
       "      <td>-0.059040</td>\n",
       "    </tr>\n",
       "    <tr>\n",
       "      <th>PERSONAL_AWARDS</th>\n",
       "      <td>0.165587</td>\n",
       "      <td>0.279592</td>\n",
       "      <td>0.250260</td>\n",
       "      <td>0.333640</td>\n",
       "      <td>0.214812</td>\n",
       "      <td>0.400318</td>\n",
       "      <td>0.274375</td>\n",
       "      <td>0.016337</td>\n",
       "      <td>0.249884</td>\n",
       "      <td>0.217949</td>\n",
       "      <td>...</td>\n",
       "      <td>-0.041742</td>\n",
       "      <td>0.154048</td>\n",
       "      <td>1.000000</td>\n",
       "      <td>0.239813</td>\n",
       "      <td>0.154540</td>\n",
       "      <td>-0.036920</td>\n",
       "      <td>-0.023341</td>\n",
       "      <td>0.042521</td>\n",
       "      <td>0.080120</td>\n",
       "      <td>-0.055231</td>\n",
       "    </tr>\n",
       "    <tr>\n",
       "      <th>TIME_FOR_PASSION</th>\n",
       "      <td>0.171532</td>\n",
       "      <td>0.198310</td>\n",
       "      <td>0.227561</td>\n",
       "      <td>0.322819</td>\n",
       "      <td>0.202697</td>\n",
       "      <td>0.374000</td>\n",
       "      <td>0.188788</td>\n",
       "      <td>-0.023936</td>\n",
       "      <td>0.278042</td>\n",
       "      <td>0.482736</td>\n",
       "      <td>...</td>\n",
       "      <td>-0.104968</td>\n",
       "      <td>0.079581</td>\n",
       "      <td>0.239813</td>\n",
       "      <td>1.000000</td>\n",
       "      <td>0.196003</td>\n",
       "      <td>-0.125174</td>\n",
       "      <td>0.019127</td>\n",
       "      <td>-0.031701</td>\n",
       "      <td>0.026913</td>\n",
       "      <td>0.017933</td>\n",
       "    </tr>\n",
       "    <tr>\n",
       "      <th>DAILY_MEDITATION</th>\n",
       "      <td>0.195067</td>\n",
       "      <td>0.203308</td>\n",
       "      <td>0.103707</td>\n",
       "      <td>0.149158</td>\n",
       "      <td>-0.006727</td>\n",
       "      <td>0.172787</td>\n",
       "      <td>0.150506</td>\n",
       "      <td>-0.070886</td>\n",
       "      <td>0.181972</td>\n",
       "      <td>0.145928</td>\n",
       "      <td>...</td>\n",
       "      <td>-0.096085</td>\n",
       "      <td>0.071620</td>\n",
       "      <td>0.154540</td>\n",
       "      <td>0.196003</td>\n",
       "      <td>1.000000</td>\n",
       "      <td>-0.171864</td>\n",
       "      <td>0.071293</td>\n",
       "      <td>-0.038958</td>\n",
       "      <td>0.110296</td>\n",
       "      <td>-0.036505</td>\n",
       "    </tr>\n",
       "    <tr>\n",
       "      <th>DAILY_STRESS</th>\n",
       "      <td>-0.068186</td>\n",
       "      <td>-0.098474</td>\n",
       "      <td>-0.093381</td>\n",
       "      <td>-0.028220</td>\n",
       "      <td>0.009942</td>\n",
       "      <td>-0.101242</td>\n",
       "      <td>-0.026715</td>\n",
       "      <td>0.060428</td>\n",
       "      <td>-0.132565</td>\n",
       "      <td>-0.119583</td>\n",
       "      <td>...</td>\n",
       "      <td>0.240826</td>\n",
       "      <td>-0.125703</td>\n",
       "      <td>-0.036920</td>\n",
       "      <td>-0.125174</td>\n",
       "      <td>-0.171864</td>\n",
       "      <td>1.000000</td>\n",
       "      <td>-0.128718</td>\n",
       "      <td>0.047415</td>\n",
       "      <td>-0.057317</td>\n",
       "      <td>-0.017576</td>\n",
       "    </tr>\n",
       "    <tr>\n",
       "      <th>GENDER_Male</th>\n",
       "      <td>-0.101748</td>\n",
       "      <td>-0.039995</td>\n",
       "      <td>-0.077187</td>\n",
       "      <td>-0.107018</td>\n",
       "      <td>-0.044677</td>\n",
       "      <td>-0.000236</td>\n",
       "      <td>-0.098484</td>\n",
       "      <td>-0.003638</td>\n",
       "      <td>-0.077819</td>\n",
       "      <td>-0.004752</td>\n",
       "      <td>...</td>\n",
       "      <td>-0.047675</td>\n",
       "      <td>0.005383</td>\n",
       "      <td>-0.023341</td>\n",
       "      <td>0.019127</td>\n",
       "      <td>0.071293</td>\n",
       "      <td>-0.128718</td>\n",
       "      <td>1.000000</td>\n",
       "      <td>-0.033134</td>\n",
       "      <td>-0.072375</td>\n",
       "      <td>0.033772</td>\n",
       "    </tr>\n",
       "    <tr>\n",
       "      <th>AGE_36 to 50</th>\n",
       "      <td>0.039057</td>\n",
       "      <td>-0.004859</td>\n",
       "      <td>0.009020</td>\n",
       "      <td>0.072757</td>\n",
       "      <td>0.049321</td>\n",
       "      <td>0.002265</td>\n",
       "      <td>0.065882</td>\n",
       "      <td>0.071452</td>\n",
       "      <td>0.014638</td>\n",
       "      <td>-0.021673</td>\n",
       "      <td>...</td>\n",
       "      <td>0.059061</td>\n",
       "      <td>0.053024</td>\n",
       "      <td>0.042521</td>\n",
       "      <td>-0.031701</td>\n",
       "      <td>-0.038958</td>\n",
       "      <td>0.047415</td>\n",
       "      <td>-0.033134</td>\n",
       "      <td>1.000000</td>\n",
       "      <td>-0.324490</td>\n",
       "      <td>-0.234556</td>\n",
       "    </tr>\n",
       "    <tr>\n",
       "      <th>AGE_51 or more</th>\n",
       "      <td>0.125598</td>\n",
       "      <td>-0.012253</td>\n",
       "      <td>-0.004482</td>\n",
       "      <td>0.105104</td>\n",
       "      <td>-0.055458</td>\n",
       "      <td>0.012342</td>\n",
       "      <td>0.144281</td>\n",
       "      <td>0.106414</td>\n",
       "      <td>0.071992</td>\n",
       "      <td>0.013381</td>\n",
       "      <td>...</td>\n",
       "      <td>-0.101046</td>\n",
       "      <td>0.097770</td>\n",
       "      <td>0.080120</td>\n",
       "      <td>0.026913</td>\n",
       "      <td>0.110296</td>\n",
       "      <td>-0.057317</td>\n",
       "      <td>-0.072375</td>\n",
       "      <td>-0.324490</td>\n",
       "      <td>1.000000</td>\n",
       "      <td>-0.192935</td>\n",
       "    </tr>\n",
       "    <tr>\n",
       "      <th>AGE_Less than 20</th>\n",
       "      <td>-0.053888</td>\n",
       "      <td>-0.028541</td>\n",
       "      <td>0.035301</td>\n",
       "      <td>-0.090889</td>\n",
       "      <td>0.101630</td>\n",
       "      <td>0.050065</td>\n",
       "      <td>-0.102634</td>\n",
       "      <td>-0.120851</td>\n",
       "      <td>-0.041394</td>\n",
       "      <td>0.037032</td>\n",
       "      <td>...</td>\n",
       "      <td>0.033352</td>\n",
       "      <td>-0.059040</td>\n",
       "      <td>-0.055231</td>\n",
       "      <td>0.017933</td>\n",
       "      <td>-0.036505</td>\n",
       "      <td>-0.017576</td>\n",
       "      <td>0.033772</td>\n",
       "      <td>-0.234556</td>\n",
       "      <td>-0.192935</td>\n",
       "      <td>1.000000</td>\n",
       "    </tr>\n",
       "  </tbody>\n",
       "</table>\n",
       "<p>24 rows × 24 columns</p>\n",
       "</div>"
      ],
      "text/plain": [
       "                   FRUITS_VEGGIES  PLACES_VISITED  CORE_CIRCLE  \\\n",
       "FRUITS_VEGGIES           1.000000        0.248521     0.153614   \n",
       "PLACES_VISITED           0.248521        1.000000     0.260027   \n",
       "CORE_CIRCLE              0.153614        0.260027     1.000000   \n",
       "SUPPORTING_OTHERS        0.207908        0.255018     0.338628   \n",
       "SOCIAL_NETWORK           0.105831        0.157728     0.304859   \n",
       "ACHIEVEMENT              0.166652        0.264932     0.292492   \n",
       "DONATION                 0.200794        0.212622     0.220277   \n",
       "BMI_RANGE               -0.091937       -0.103668    -0.025831   \n",
       "TODO_COMPLETED           0.230356        0.234081     0.222432   \n",
       "FLOW                     0.136239        0.154863     0.243491   \n",
       "DAILY_STEPS              0.243607        0.196328     0.151149   \n",
       "LIVE_VISION              0.113970        0.149851     0.216507   \n",
       "SLEEP_HOURS              0.105838        0.129621     0.060743   \n",
       "LOST_VACATION           -0.069862       -0.124848    -0.083250   \n",
       "DAILY_SHOUTING          -0.071101       -0.089083    -0.076207   \n",
       "SUFFICIENT_INCOME        0.151258        0.173347     0.122592   \n",
       "PERSONAL_AWARDS          0.165587        0.279592     0.250260   \n",
       "TIME_FOR_PASSION         0.171532        0.198310     0.227561   \n",
       "DAILY_MEDITATION         0.195067        0.203308     0.103707   \n",
       "DAILY_STRESS            -0.068186       -0.098474    -0.093381   \n",
       "GENDER_Male             -0.101748       -0.039995    -0.077187   \n",
       "AGE_36 to 50             0.039057       -0.004859     0.009020   \n",
       "AGE_51 or more           0.125598       -0.012253    -0.004482   \n",
       "AGE_Less than 20        -0.053888       -0.028541     0.035301   \n",
       "\n",
       "                   SUPPORTING_OTHERS  SOCIAL_NETWORK  ACHIEVEMENT  DONATION  \\\n",
       "FRUITS_VEGGIES              0.207908        0.105831     0.166652  0.200794   \n",
       "PLACES_VISITED              0.255018        0.157728     0.264932  0.212622   \n",
       "CORE_CIRCLE                 0.338628        0.304859     0.292492  0.220277   \n",
       "SUPPORTING_OTHERS           1.000000        0.311311     0.359061  0.394246   \n",
       "SOCIAL_NETWORK              0.311311        1.000000     0.252535  0.147856   \n",
       "ACHIEVEMENT                 0.359061        0.252535     1.000000  0.236619   \n",
       "DONATION                    0.394246        0.147856     0.236619  1.000000   \n",
       "BMI_RANGE                   0.027590        0.016990    -0.034213  0.059698   \n",
       "TODO_COMPLETED              0.252195        0.212186     0.309391  0.189926   \n",
       "FLOW                        0.266956        0.240474     0.389587  0.162083   \n",
       "DAILY_STEPS                 0.145228        0.213710     0.193295  0.107807   \n",
       "LIVE_VISION                 0.233595        0.184865     0.316513  0.158219   \n",
       "SLEEP_HOURS                 0.013640       -0.029046     0.054833  0.005394   \n",
       "LOST_VACATION              -0.026131        0.011867    -0.010978 -0.025643   \n",
       "DAILY_SHOUTING             -0.064181       -0.010240    -0.066316 -0.054699   \n",
       "SUFFICIENT_INCOME           0.115801        0.131991     0.117234  0.124178   \n",
       "PERSONAL_AWARDS             0.333640        0.214812     0.400318  0.274375   \n",
       "TIME_FOR_PASSION            0.322819        0.202697     0.374000  0.188788   \n",
       "DAILY_MEDITATION            0.149158       -0.006727     0.172787  0.150506   \n",
       "DAILY_STRESS               -0.028220        0.009942    -0.101242 -0.026715   \n",
       "GENDER_Male                -0.107018       -0.044677    -0.000236 -0.098484   \n",
       "AGE_36 to 50                0.072757        0.049321     0.002265  0.065882   \n",
       "AGE_51 or more              0.105104       -0.055458     0.012342  0.144281   \n",
       "AGE_Less than 20           -0.090889        0.101630     0.050065 -0.102634   \n",
       "\n",
       "                   BMI_RANGE  TODO_COMPLETED      FLOW  ...  DAILY_SHOUTING  \\\n",
       "FRUITS_VEGGIES     -0.091937        0.230356  0.136239  ...       -0.071101   \n",
       "PLACES_VISITED     -0.103668        0.234081  0.154863  ...       -0.089083   \n",
       "CORE_CIRCLE        -0.025831        0.222432  0.243491  ...       -0.076207   \n",
       "SUPPORTING_OTHERS   0.027590        0.252195  0.266956  ...       -0.064181   \n",
       "SOCIAL_NETWORK      0.016990        0.212186  0.240474  ...       -0.010240   \n",
       "ACHIEVEMENT        -0.034213        0.309391  0.389587  ...       -0.066316   \n",
       "DONATION            0.059698        0.189926  0.162083  ...       -0.054699   \n",
       "BMI_RANGE           1.000000       -0.067518  0.011722  ...        0.054484   \n",
       "TODO_COMPLETED     -0.067518        1.000000  0.302304  ...       -0.145570   \n",
       "FLOW                0.011722        0.302304  1.000000  ...       -0.080179   \n",
       "DAILY_STEPS        -0.128912        0.204824  0.143232  ...       -0.031996   \n",
       "LIVE_VISION        -0.009079        0.271890  0.300082  ...       -0.081183   \n",
       "SLEEP_HOURS        -0.095497        0.118031  0.036871  ...       -0.078257   \n",
       "LOST_VACATION       0.032547       -0.080176  0.000220  ...        0.085136   \n",
       "DAILY_SHOUTING      0.054484       -0.145570 -0.080179  ...        1.000000   \n",
       "SUFFICIENT_INCOME  -0.014403        0.203418  0.086963  ...       -0.076225   \n",
       "PERSONAL_AWARDS     0.016337        0.249884  0.217949  ...       -0.041742   \n",
       "TIME_FOR_PASSION   -0.023936        0.278042  0.482736  ...       -0.104968   \n",
       "DAILY_MEDITATION   -0.070886        0.181972  0.145928  ...       -0.096085   \n",
       "DAILY_STRESS        0.060428       -0.132565 -0.119583  ...        0.240826   \n",
       "GENDER_Male        -0.003638       -0.077819 -0.004752  ...       -0.047675   \n",
       "AGE_36 to 50        0.071452        0.014638 -0.021673  ...        0.059061   \n",
       "AGE_51 or more      0.106414        0.071992  0.013381  ...       -0.101046   \n",
       "AGE_Less than 20   -0.120851       -0.041394  0.037032  ...        0.033352   \n",
       "\n",
       "                   SUFFICIENT_INCOME  PERSONAL_AWARDS  TIME_FOR_PASSION  \\\n",
       "FRUITS_VEGGIES              0.151258         0.165587          0.171532   \n",
       "PLACES_VISITED              0.173347         0.279592          0.198310   \n",
       "CORE_CIRCLE                 0.122592         0.250260          0.227561   \n",
       "SUPPORTING_OTHERS           0.115801         0.333640          0.322819   \n",
       "SOCIAL_NETWORK              0.131991         0.214812          0.202697   \n",
       "ACHIEVEMENT                 0.117234         0.400318          0.374000   \n",
       "DONATION                    0.124178         0.274375          0.188788   \n",
       "BMI_RANGE                  -0.014403         0.016337         -0.023936   \n",
       "TODO_COMPLETED              0.203418         0.249884          0.278042   \n",
       "FLOW                        0.086963         0.217949          0.482736   \n",
       "DAILY_STEPS                 0.101736         0.150004          0.146967   \n",
       "LIVE_VISION                 0.130802         0.206592          0.311016   \n",
       "SLEEP_HOURS                 0.047317         0.018511          0.067819   \n",
       "LOST_VACATION              -0.082836        -0.038322         -0.026952   \n",
       "DAILY_SHOUTING             -0.076225        -0.041742         -0.104968   \n",
       "SUFFICIENT_INCOME           1.000000         0.154048          0.079581   \n",
       "PERSONAL_AWARDS             0.154048         1.000000          0.239813   \n",
       "TIME_FOR_PASSION            0.079581         0.239813          1.000000   \n",
       "DAILY_MEDITATION            0.071620         0.154540          0.196003   \n",
       "DAILY_STRESS               -0.125703        -0.036920         -0.125174   \n",
       "GENDER_Male                 0.005383        -0.023341          0.019127   \n",
       "AGE_36 to 50                0.053024         0.042521         -0.031701   \n",
       "AGE_51 or more              0.097770         0.080120          0.026913   \n",
       "AGE_Less than 20           -0.059040        -0.055231          0.017933   \n",
       "\n",
       "                   DAILY_MEDITATION  DAILY_STRESS  GENDER_Male  AGE_36 to 50  \\\n",
       "FRUITS_VEGGIES             0.195067     -0.068186    -0.101748      0.039057   \n",
       "PLACES_VISITED             0.203308     -0.098474    -0.039995     -0.004859   \n",
       "CORE_CIRCLE                0.103707     -0.093381    -0.077187      0.009020   \n",
       "SUPPORTING_OTHERS          0.149158     -0.028220    -0.107018      0.072757   \n",
       "SOCIAL_NETWORK            -0.006727      0.009942    -0.044677      0.049321   \n",
       "ACHIEVEMENT                0.172787     -0.101242    -0.000236      0.002265   \n",
       "DONATION                   0.150506     -0.026715    -0.098484      0.065882   \n",
       "BMI_RANGE                 -0.070886      0.060428    -0.003638      0.071452   \n",
       "TODO_COMPLETED             0.181972     -0.132565    -0.077819      0.014638   \n",
       "FLOW                       0.145928     -0.119583    -0.004752     -0.021673   \n",
       "DAILY_STEPS                0.141677     -0.041278     0.014479      0.002375   \n",
       "LIVE_VISION                0.152179     -0.103430     0.017733     -0.017971   \n",
       "SLEEP_HOURS                0.164159     -0.120998    -0.034427     -0.042679   \n",
       "LOST_VACATION             -0.113141      0.153092     0.021975     -0.011275   \n",
       "DAILY_SHOUTING            -0.096085      0.240826    -0.047675      0.059061   \n",
       "SUFFICIENT_INCOME          0.071620     -0.125703     0.005383      0.053024   \n",
       "PERSONAL_AWARDS            0.154540     -0.036920    -0.023341      0.042521   \n",
       "TIME_FOR_PASSION           0.196003     -0.125174     0.019127     -0.031701   \n",
       "DAILY_MEDITATION           1.000000     -0.171864     0.071293     -0.038958   \n",
       "DAILY_STRESS              -0.171864      1.000000    -0.128718      0.047415   \n",
       "GENDER_Male                0.071293     -0.128718     1.000000     -0.033134   \n",
       "AGE_36 to 50              -0.038958      0.047415    -0.033134      1.000000   \n",
       "AGE_51 or more             0.110296     -0.057317    -0.072375     -0.324490   \n",
       "AGE_Less than 20          -0.036505     -0.017576     0.033772     -0.234556   \n",
       "\n",
       "                   AGE_51 or more  AGE_Less than 20  \n",
       "FRUITS_VEGGIES           0.125598         -0.053888  \n",
       "PLACES_VISITED          -0.012253         -0.028541  \n",
       "CORE_CIRCLE             -0.004482          0.035301  \n",
       "SUPPORTING_OTHERS        0.105104         -0.090889  \n",
       "SOCIAL_NETWORK          -0.055458          0.101630  \n",
       "ACHIEVEMENT              0.012342          0.050065  \n",
       "DONATION                 0.144281         -0.102634  \n",
       "BMI_RANGE                0.106414         -0.120851  \n",
       "TODO_COMPLETED           0.071992         -0.041394  \n",
       "FLOW                     0.013381          0.037032  \n",
       "DAILY_STEPS             -0.010234          0.037553  \n",
       "LIVE_VISION              0.064467          0.024300  \n",
       "SLEEP_HOURS             -0.020214          0.035456  \n",
       "LOST_VACATION           -0.044703          0.017744  \n",
       "DAILY_SHOUTING          -0.101046          0.033352  \n",
       "SUFFICIENT_INCOME        0.097770         -0.059040  \n",
       "PERSONAL_AWARDS          0.080120         -0.055231  \n",
       "TIME_FOR_PASSION         0.026913          0.017933  \n",
       "DAILY_MEDITATION         0.110296         -0.036505  \n",
       "DAILY_STRESS            -0.057317         -0.017576  \n",
       "GENDER_Male             -0.072375          0.033772  \n",
       "AGE_36 to 50            -0.324490         -0.234556  \n",
       "AGE_51 or more           1.000000         -0.192935  \n",
       "AGE_Less than 20        -0.192935          1.000000  \n",
       "\n",
       "[24 rows x 24 columns]"
      ]
     },
     "execution_count": 403,
     "metadata": {},
     "output_type": "execute_result"
    }
   ],
   "source": [
    "df.corr()"
   ]
  },
  {
   "cell_type": "code",
   "execution_count": 101,
   "metadata": {},
   "outputs": [],
   "source": [
    "##Need some good improvments ! \n",
    "def distplots(df):\n",
    "\n",
    "    n=len(df.columns.tolist())\n",
    "\n",
    "    if n %2 == 0:\n",
    "        nr = int(n/6)\n",
    "    else:\n",
    "        nr = int((n+1)/6)\n",
    "        \n",
    "    titles = df.columns.tolist()\n",
    "\n",
    "    fig, axes = plt.subplots(nrows=nr, ncols=4, figsize = (20,15))\n",
    "    fig.suptitle('Distributions')\n",
    "    for ax, tit,i in zip(axes.flat, titles, range(0,n)):\n",
    "        sns.distplot(df.iloc[:,i], ax=ax)\n",
    "        ax.set(title=tit)\n",
    "    \n",
    "    plt.tight_layout()\n",
    "    return"
   ]
  },
  {
   "cell_type": "code",
   "execution_count": 93,
   "metadata": {},
   "outputs": [],
   "source": [
    "n=len(df.columns.tolist())"
   ]
  },
  {
   "cell_type": "code",
   "execution_count": 91,
   "metadata": {},
   "outputs": [
    {
     "data": {
      "text/plain": [
       "4.0"
      ]
     },
     "execution_count": 91,
     "metadata": {},
     "output_type": "execute_result"
    }
   ],
   "source": [
    "n/6"
   ]
  },
  {
   "cell_type": "code",
   "execution_count": 104,
   "metadata": {},
   "outputs": [
    {
     "data": {
      "image/png": "[encoded data removed]",
      "text/plain": [
       "<Figure size 1440x1080 with 12 Axes>"
      ]
     },
     "metadata": {
      "needs_background": "light"
     },
     "output_type": "display_data"
    }
   ],
   "source": [
    "distplots(df.drop(['BMI_RANGE', 'SUFFICIENT_INCOME', 'AGE', 'GENDER'], axis = 1))"
   ]
  },
  {
   "cell_type": "markdown",
   "metadata": {},
   "source": [
    "## DATA SCALING"
   ]
  },
  {
   "cell_type": "code",
   "execution_count": 346,
   "metadata": {},
   "outputs": [],
   "source": [
    "from sklearn.preprocessing import StandardScaler\n",
    "from sklearn.preprocessing import MinMaxScaler"
   ]
  },
  {
   "cell_type": "code",
   "execution_count": 347,
   "metadata": {},
   "outputs": [],
   "source": [
    "scaler = StandardScaler()\n",
    "scaler.fit(raw_df.drop('DAILY_STRESS', axis = 1))\n",
    "df_scale = scaler.transform(raw_df.drop('DAILY_STRESS', axis = 1))\n",
    "df_inverse = scaler.inverse_transform(df_scale)\n",
    "df_scale = pd.concat([pd.DataFrame(df_scale, columns=raw_df.drop('DAILY_STRESS', axis=1).columns), raw_df.DAILY_STRESS], axis = 1)\n",
    "df_inverse = pd.concat([pd.DataFrame(df_inverse, columns=raw_df.drop('DAILY_STRESS', axis=1).columns), raw_df.DAILY_STRESS], axis = 1)"
   ]
  },
  {
   "cell_type": "code",
   "execution_count": 348,
   "metadata": {},
   "outputs": [],
   "source": [
    "df = pd.concat([df_scale, dummies_df], axis = 1)\n",
    "df_inverse = pd.concat([df_inverse, dummies_df], axis = 1)"
   ]
  },
  {
   "cell_type": "code",
   "execution_count": 349,
   "metadata": {},
   "outputs": [],
   "source": [
    "df.drop(df.loc[df.FRUITS_VEGGIES.isna() == True].index, inplace=True)\n",
    "df_inverse.drop(df_inverse.loc[df_inverse.FRUITS_VEGGIES.isna() == True].index, inplace=True)"
   ]
  },
  {
   "cell_type": "code",
   "execution_count": 350,
   "metadata": {},
   "outputs": [],
   "source": [
    "df.drop(df.loc[df.GENDER_Male.isna() == True].index, inplace=True)\n",
    "df_inverse.drop(df_inverse.loc[df_inverse.GENDER_Male.isna() == True].index, inplace=True)"
   ]
  },
  {
   "cell_type": "code",
   "execution_count": 151,
   "metadata": {},
   "outputs": [
    {
     "data": {
      "text/plain": [
       "FRUITS_VEGGIES       0\n",
       "PLACES_VISITED       0\n",
       "CORE_CIRCLE          0\n",
       "SUPPORTING_OTHERS    0\n",
       "SOCIAL_NETWORK       0\n",
       "ACHIEVEMENT          0\n",
       "DONATION             0\n",
       "BMI_RANGE            0\n",
       "TODO_COMPLETED       0\n",
       "FLOW                 0\n",
       "DAILY_STEPS          0\n",
       "LIVE_VISION          0\n",
       "SLEEP_HOURS          0\n",
       "LOST_VACATION        0\n",
       "DAILY_SHOUTING       0\n",
       "SUFFICIENT_INCOME    0\n",
       "PERSONAL_AWARDS      0\n",
       "TIME_FOR_PASSION     0\n",
       "DAILY_MEDITATION     0\n",
       "DAILY_STRESS         0\n",
       "GENDER_Male          0\n",
       "AGE_36 to 50         0\n",
       "AGE_51 or more       0\n",
       "AGE_Less than 20     0\n",
       "dtype: int64"
      ]
     },
     "execution_count": 151,
     "metadata": {},
     "output_type": "execute_result"
    }
   ],
   "source": [
    "df.isna().sum()"
   ]
  },
  {
   "cell_type": "code",
   "execution_count": 173,
   "metadata": {},
   "outputs": [
    {
     "data": {
      "text/plain": [
       "(12754, 24)"
      ]
     },
     "execution_count": 173,
     "metadata": {},
     "output_type": "execute_result"
    }
   ],
   "source": [
    "df_inverse.shape"
   ]
  },
  {
   "cell_type": "code",
   "execution_count": 174,
   "metadata": {},
   "outputs": [
    {
     "data": {
      "text/plain": [
       "(12754, 24)"
      ]
     },
     "execution_count": 174,
     "metadata": {},
     "output_type": "execute_result"
    }
   ],
   "source": [
    "df.shape"
   ]
  },
  {
   "cell_type": "code",
   "execution_count": 354,
   "metadata": {},
   "outputs": [],
   "source": [
    "df['DAILY_STRESS'] = np.where(df.DAILY_STRESS >= 3, 1, 0)"
   ]
  },
  {
   "cell_type": "code",
   "execution_count": 18,
   "metadata": {},
   "outputs": [
    {
     "data": {
      "text/plain": [
       "<matplotlib.axes._subplots.AxesSubplot at 0x20d4cea2288>"
      ]
     },
     "execution_count": 18,
     "metadata": {},
     "output_type": "execute_result"
    },
    {
     "data": {
      "image/png": "[encoded data removed]",
      "text/plain": [
       "<Figure size 432x288 with 1 Axes>"
      ]
     },
     "metadata": {
      "needs_background": "light"
     },
     "output_type": "display_data"
    }
   ],
   "source": [
    "sns.countplot(df.DAILY_STRESS)"
   ]
  },
  {
   "cell_type": "markdown",
   "metadata": {},
   "source": [
    "## Splitting Data"
   ]
  },
  {
   "cell_type": "code",
   "execution_count": 19,
   "metadata": {},
   "outputs": [],
   "source": [
    "from sklearn.model_selection import train_test_split"
   ]
  },
  {
   "cell_type": "code",
   "execution_count": 355,
   "metadata": {},
   "outputs": [],
   "source": [
    "X_train, X_test, y_train, y_test = train_test_split(df.drop('DAILY_STRESS', axis = 1), df.DAILY_STRESS, test_size = 0.20, random_state = 42, stratify = df.DAILY_STRESS)"
   ]
  },
  {
   "cell_type": "code",
   "execution_count": 766,
   "metadata": {},
   "outputs": [
    {
     "data": {
      "text/plain": [
       "LogisticRegression(C=1.0, class_weight=None, dual=False, fit_intercept=True,\n",
       "                   intercept_scaling=1, l1_ratio=None, max_iter=10000,\n",
       "                   multi_class='auto', n_jobs=None, penalty='l2',\n",
       "                   random_state=None, solver='lbfgs', tol=0.0001, verbose=0,\n",
       "                   warm_start=False)"
      ]
     },
     "execution_count": 766,
     "metadata": {},
     "output_type": "execute_result"
    }
   ],
   "source": [
    "logreg.fit(X_train, y_train)"
   ]
  },
  {
   "cell_type": "code",
   "execution_count": 767,
   "metadata": {},
   "outputs": [],
   "source": [
    "pred3 = logreg.predict(X_test)"
   ]
  },
  {
   "cell_type": "code",
   "execution_count": 768,
   "metadata": {},
   "outputs": [
    {
     "data": {
      "text/plain": [
       "array([[ 463,  588],\n",
       "       [ 303, 1197]], dtype=int64)"
      ]
     },
     "execution_count": 768,
     "metadata": {},
     "output_type": "execute_result"
    }
   ],
   "source": [
    "confusion_matrix(y_test, pred3)"
   ]
  },
  {
   "cell_type": "code",
   "execution_count": 769,
   "metadata": {},
   "outputs": [
    {
     "data": {
      "text/plain": [
       "0.6507252058016464"
      ]
     },
     "execution_count": 769,
     "metadata": {},
     "output_type": "execute_result"
    }
   ],
   "source": [
    "accuracy_score(y_test, pred3)"
   ]
  },
  {
   "cell_type": "code",
   "execution_count": 314,
   "metadata": {
    "scrolled": false
   },
   "outputs": [
    {
     "data": {
      "text/plain": [
       "<matplotlib.axes._subplots.AxesSubplot at 0x20d6ddcf908>"
      ]
     },
     "execution_count": 314,
     "metadata": {},
     "output_type": "execute_result"
    },
    {
     "data": {
      "image/png": "[encoded data removed]",
      "text/plain": [
       "<Figure size 1080x720 with 1 Axes>"
      ]
     },
     "metadata": {
      "needs_background": "light"
     },
     "output_type": "display_data"
    }
   ],
   "source": [
    "df_test.drop(['DAILY_STRESS', 'Full_Cluster'], axis=1).corrwith(df.DAILY_STRESS).plot.bar(figsize = (15, 10), title = \"Correlation with DAILY_STRESS\", fontsize = 10,grid = True, color=np.random.random(3) )"
   ]
  },
  {
   "cell_type": "code",
   "execution_count": 22,
   "metadata": {},
   "outputs": [],
   "source": [
    "import xgboost as xgb"
   ]
  },
  {
   "cell_type": "code",
   "execution_count": 356,
   "metadata": {},
   "outputs": [
    {
     "data": {
      "text/plain": [
       "array([[ 474,  577],\n",
       "       [ 323, 1177]], dtype=int64)"
      ]
     },
     "execution_count": 356,
     "metadata": {},
     "output_type": "execute_result"
    }
   ],
   "source": [
    "XG = xgb.XGBClassifier()\n",
    "XG.fit(X_train,y_train)\n",
    "predXG = predXG.round()\n",
    "predXG = XG.predict(X_test)\n",
    "confusion_matrix(y_test,predXG)"
   ]
  },
  {
   "cell_type": "code",
   "execution_count": 357,
   "metadata": {},
   "outputs": [
    {
     "data": {
      "text/plain": [
       "0.6471971775774206"
      ]
     },
     "execution_count": 357,
     "metadata": {},
     "output_type": "execute_result"
    }
   ],
   "source": [
    "accuracy_score(y_test,predXG)"
   ]
  },
  {
   "cell_type": "code",
   "execution_count": 358,
   "metadata": {},
   "outputs": [
    {
     "data": {
      "text/plain": [
       "0.7846666666666666"
      ]
     },
     "execution_count": 358,
     "metadata": {},
     "output_type": "execute_result"
    }
   ],
   "source": [
    "recall_score(y_test, predXG)"
   ]
  },
  {
   "cell_type": "code",
   "execution_count": 360,
   "metadata": {},
   "outputs": [
    {
     "data": {
      "text/plain": [
       "0.6710376282782212"
      ]
     },
     "execution_count": 360,
     "metadata": {},
     "output_type": "execute_result"
    }
   ],
   "source": [
    "precision_score(y_test, predXG)"
   ]
  },
  {
   "cell_type": "code",
   "execution_count": 361,
   "metadata": {},
   "outputs": [
    {
     "data": {
      "text/plain": [
       "0.723417332513829"
      ]
     },
     "execution_count": 361,
     "metadata": {},
     "output_type": "execute_result"
    }
   ],
   "source": [
    "f1_score(y_test, predXG)"
   ]
  },
  {
   "cell_type": "markdown",
   "metadata": {},
   "source": [
    "## RFE to detect least significant columns"
   ]
  },
  {
   "cell_type": "code",
   "execution_count": 215,
   "metadata": {},
   "outputs": [],
   "source": [
    "from sklearn.feature_selection import RFE\n",
    "from sklearn.linear_model import LogisticRegression"
   ]
  },
  {
   "cell_type": "code",
   "execution_count": 216,
   "metadata": {},
   "outputs": [
    {
     "data": {
      "text/plain": [
       "RFE(estimator=LogisticRegression(C=1.0, class_weight=None, dual=False,\n",
       "                                 fit_intercept=True, intercept_scaling=1,\n",
       "                                 l1_ratio=None, max_iter=10000,\n",
       "                                 multi_class='auto', n_jobs=None, penalty='l2',\n",
       "                                 random_state=None, solver='lbfgs', tol=0.0001,\n",
       "                                 verbose=0, warm_start=False),\n",
       "    n_features_to_select=None, step=1, verbose=0)"
      ]
     },
     "execution_count": 216,
     "metadata": {},
     "output_type": "execute_result"
    }
   ],
   "source": [
    "logreg = LogisticRegression(max_iter = 10000)\n",
    "selector = RFE(logreg)\n",
    "selector.fit(X_train, y_train)"
   ]
  },
  {
   "cell_type": "code",
   "execution_count": 217,
   "metadata": {},
   "outputs": [
    {
     "data": {
      "text/plain": [
       "Index(['FRUITS_VEGGIES', 'PLACES_VISITED', 'SUPPORTING_OTHERS', 'ACHIEVEMENT',\n",
       "       'DONATION', 'BMI_RANGE', 'DAILY_STEPS', 'LIVE_VISION',\n",
       "       'PERSONAL_AWARDS', 'AGE_36 to 50', 'AGE_51 or more',\n",
       "       'AGE_Less than 20'],\n",
       "      dtype='object')"
      ]
     },
     "execution_count": 217,
     "metadata": {},
     "output_type": "execute_result"
    }
   ],
   "source": [
    "X_train.columns[~selector.support_]"
   ]
  },
  {
   "cell_type": "code",
   "execution_count": 218,
   "metadata": {},
   "outputs": [
    {
     "data": {
      "text/plain": [
       "Index(['CORE_CIRCLE', 'SOCIAL_NETWORK', 'TODO_COMPLETED', 'FLOW',\n",
       "       'SLEEP_HOURS', 'LOST_VACATION', 'DAILY_SHOUTING', 'SUFFICIENT_INCOME',\n",
       "       'TIME_FOR_PASSION', 'DAILY_MEDITATION', 'GENDER_Male'],\n",
       "      dtype='object')"
      ]
     },
     "execution_count": 218,
     "metadata": {},
     "output_type": "execute_result"
    }
   ],
   "source": [
    "X_train.columns[selector.support_]"
   ]
  },
  {
   "cell_type": "markdown",
   "metadata": {},
   "source": [
    "## CLUSTERS"
   ]
  },
  {
   "cell_type": "markdown",
   "metadata": {},
   "source": [
    "### K_MEANS"
   ]
  },
  {
   "cell_type": "code",
   "execution_count": 236,
   "metadata": {},
   "outputs": [
    {
     "data": {
      "text/plain": [
       "PCA(copy=True, iterated_power='auto', n_components=0.85, random_state=None,\n",
       "    svd_solver='auto', tol=0.0, whiten=False)"
      ]
     },
     "execution_count": 236,
     "metadata": {},
     "output_type": "execute_result"
    }
   ],
   "source": [
    "from sklearn.decomposition import PCA\n",
    "pca = PCA(0.85)\n",
    "pca.fit(df[columns_to_cluster])"
   ]
  },
  {
   "cell_type": "code",
   "execution_count": 237,
   "metadata": {},
   "outputs": [
    {
     "data": {
      "text/plain": [
       "array([0.27809918, 0.1273203 , 0.10095815, 0.08886108, 0.08327202,\n",
       "       0.07906985, 0.07221219, 0.06347891])"
      ]
     },
     "execution_count": 237,
     "metadata": {},
     "output_type": "execute_result"
    }
   ],
   "source": [
    "(pca.explained_variance_ratio_)"
   ]
  },
  {
   "cell_type": "code",
   "execution_count": 238,
   "metadata": {},
   "outputs": [],
   "source": [
    "pca_df = pd.DataFrame(pca.transform(df[columns_to_cluster]), columns=['pca1', 'pca2', 'pca3', 'pca4', 'pca5', 'pca6', 'pca7', 'pca8'])"
   ]
  },
  {
   "cell_type": "code",
   "execution_count": 219,
   "metadata": {},
   "outputs": [],
   "source": [
    "from sklearn.cluster import KMeans"
   ]
  },
  {
   "cell_type": "code",
   "execution_count": 220,
   "metadata": {},
   "outputs": [],
   "source": [
    "columns_to_cluster = X_train.columns[~selector.support_].tolist()"
   ]
  },
  {
   "cell_type": "code",
   "execution_count": 253,
   "metadata": {},
   "outputs": [
    {
     "data": {
      "text/plain": [
       "KMeans(algorithm='auto', copy_x=True, init='k-means++', max_iter=300,\n",
       "       n_clusters=2, n_init=10, n_jobs=None, precompute_distances='auto',\n",
       "       random_state=None, tol=0.0001, verbose=0)"
      ]
     },
     "execution_count": 253,
     "metadata": {},
     "output_type": "execute_result"
    }
   ],
   "source": [
    "df_clusters = KMeans(2) ## There is a way to decide the optimal number of clusters, but for now let's generate 5 clusters\n",
    "df_clusters.fit(df[columns_to_cluster])"
   ]
  },
  {
   "cell_type": "code",
   "execution_count": 254,
   "metadata": {},
   "outputs": [
    {
     "data": {
      "text/plain": [
       "array([1, 1, 1, ..., 1, 0, 1])"
      ]
     },
     "execution_count": 254,
     "metadata": {},
     "output_type": "execute_result"
    }
   ],
   "source": [
    "df_clusters.labels_"
   ]
  },
  {
   "cell_type": "code",
   "execution_count": 261,
   "metadata": {},
   "outputs": [],
   "source": [
    "df['Cluster'] = (df_clusters.labels_)\n",
    "df_inverse['Cluster'] = (df_clusters.labels_)"
   ]
  },
  {
   "cell_type": "code",
   "execution_count": 262,
   "metadata": {},
   "outputs": [
    {
     "data": {
      "text/plain": [
       "array([1, 0])"
      ]
     },
     "execution_count": 262,
     "metadata": {},
     "output_type": "execute_result"
    }
   ],
   "source": [
    "df.Cluster.unique()"
   ]
  },
  {
   "cell_type": "code",
   "execution_count": 257,
   "metadata": {},
   "outputs": [
    {
     "data": {
      "text/plain": [
       "1    6377\n",
       "0    6377\n",
       "Name: Cluster, dtype: int64"
      ]
     },
     "execution_count": 257,
     "metadata": {},
     "output_type": "execute_result"
    }
   ],
   "source": [
    "df.Cluster.value_counts()"
   ]
  },
  {
   "cell_type": "code",
   "execution_count": 258,
   "metadata": {},
   "outputs": [
    {
     "data": {
      "text/html": [
       "<div>\n",
       "<style scoped>\n",
       "    .dataframe tbody tr th:only-of-type {\n",
       "        vertical-align: middle;\n",
       "    }\n",
       "\n",
       "    .dataframe tbody tr th {\n",
       "        vertical-align: top;\n",
       "    }\n",
       "\n",
       "    .dataframe thead th {\n",
       "        text-align: right;\n",
       "    }\n",
       "</style>\n",
       "<table border=\"1\" class=\"dataframe\">\n",
       "  <thead>\n",
       "    <tr style=\"text-align: right;\">\n",
       "      <th></th>\n",
       "      <th>FRUITS_VEGGIES</th>\n",
       "      <th>PLACES_VISITED</th>\n",
       "      <th>CORE_CIRCLE</th>\n",
       "      <th>SUPPORTING_OTHERS</th>\n",
       "      <th>SOCIAL_NETWORK</th>\n",
       "      <th>ACHIEVEMENT</th>\n",
       "      <th>DONATION</th>\n",
       "      <th>BMI_RANGE</th>\n",
       "      <th>TODO_COMPLETED</th>\n",
       "      <th>FLOW</th>\n",
       "      <th>...</th>\n",
       "      <th>SUFFICIENT_INCOME</th>\n",
       "      <th>PERSONAL_AWARDS</th>\n",
       "      <th>TIME_FOR_PASSION</th>\n",
       "      <th>DAILY_MEDITATION</th>\n",
       "      <th>DAILY_STRESS</th>\n",
       "      <th>GENDER_Male</th>\n",
       "      <th>AGE_36 to 50</th>\n",
       "      <th>AGE_51 or more</th>\n",
       "      <th>AGE_Less than 20</th>\n",
       "      <th>Full_Cluster</th>\n",
       "    </tr>\n",
       "    <tr>\n",
       "      <th>Cluster</th>\n",
       "      <th></th>\n",
       "      <th></th>\n",
       "      <th></th>\n",
       "      <th></th>\n",
       "      <th></th>\n",
       "      <th></th>\n",
       "      <th></th>\n",
       "      <th></th>\n",
       "      <th></th>\n",
       "      <th></th>\n",
       "      <th></th>\n",
       "      <th></th>\n",
       "      <th></th>\n",
       "      <th></th>\n",
       "      <th></th>\n",
       "      <th></th>\n",
       "      <th></th>\n",
       "      <th></th>\n",
       "      <th></th>\n",
       "      <th></th>\n",
       "      <th></th>\n",
       "    </tr>\n",
       "  </thead>\n",
       "  <tbody>\n",
       "    <tr>\n",
       "      <th>0</th>\n",
       "      <td>1.425506</td>\n",
       "      <td>1.406465</td>\n",
       "      <td>1.583453</td>\n",
       "      <td>1.355683</td>\n",
       "      <td>1.118386</td>\n",
       "      <td>0.376730</td>\n",
       "      <td>1.233624</td>\n",
       "      <td>-0.817697</td>\n",
       "      <td>0.871073</td>\n",
       "      <td>-0.482498</td>\n",
       "      <td>...</td>\n",
       "      <td>0.610964</td>\n",
       "      <td>1.382502</td>\n",
       "      <td>-0.465430</td>\n",
       "      <td>1.234648</td>\n",
       "      <td>1</td>\n",
       "      <td>0.0</td>\n",
       "      <td>0.0</td>\n",
       "      <td>0.0</td>\n",
       "      <td>0.0</td>\n",
       "      <td>1</td>\n",
       "    </tr>\n",
       "    <tr>\n",
       "      <th>1</th>\n",
       "      <td>-0.640668</td>\n",
       "      <td>-1.007673</td>\n",
       "      <td>-0.871463</td>\n",
       "      <td>-0.790074</td>\n",
       "      <td>1.118386</td>\n",
       "      <td>-0.713377</td>\n",
       "      <td>-1.449036</td>\n",
       "      <td>-0.817697</td>\n",
       "      <td>-0.268197</td>\n",
       "      <td>-0.910858</td>\n",
       "      <td>...</td>\n",
       "      <td>0.610964</td>\n",
       "      <td>-0.869458</td>\n",
       "      <td>-0.832928</td>\n",
       "      <td>1.234648</td>\n",
       "      <td>1</td>\n",
       "      <td>0.0</td>\n",
       "      <td>0.0</td>\n",
       "      <td>0.0</td>\n",
       "      <td>0.0</td>\n",
       "      <td>0</td>\n",
       "    </tr>\n",
       "  </tbody>\n",
       "</table>\n",
       "<p>2 rows × 25 columns</p>\n",
       "</div>"
      ],
      "text/plain": [
       "         FRUITS_VEGGIES  PLACES_VISITED  CORE_CIRCLE  SUPPORTING_OTHERS  \\\n",
       "Cluster                                                                   \n",
       "0              1.425506        1.406465     1.583453           1.355683   \n",
       "1             -0.640668       -1.007673    -0.871463          -0.790074   \n",
       "\n",
       "         SOCIAL_NETWORK  ACHIEVEMENT  DONATION  BMI_RANGE  TODO_COMPLETED  \\\n",
       "Cluster                                                                     \n",
       "0              1.118386     0.376730  1.233624  -0.817697        0.871073   \n",
       "1              1.118386    -0.713377 -1.449036  -0.817697       -0.268197   \n",
       "\n",
       "             FLOW  ...  SUFFICIENT_INCOME  PERSONAL_AWARDS  TIME_FOR_PASSION  \\\n",
       "Cluster            ...                                                         \n",
       "0       -0.482498  ...           0.610964         1.382502         -0.465430   \n",
       "1       -0.910858  ...           0.610964        -0.869458         -0.832928   \n",
       "\n",
       "         DAILY_MEDITATION  DAILY_STRESS  GENDER_Male  AGE_36 to 50  \\\n",
       "Cluster                                                              \n",
       "0                1.234648             1          0.0           0.0   \n",
       "1                1.234648             1          0.0           0.0   \n",
       "\n",
       "         AGE_51 or more  AGE_Less than 20  Full_Cluster  \n",
       "Cluster                                                  \n",
       "0                   0.0               0.0             1  \n",
       "1                   0.0               0.0             0  \n",
       "\n",
       "[2 rows x 25 columns]"
      ]
     },
     "execution_count": 258,
     "metadata": {},
     "output_type": "execute_result"
    }
   ],
   "source": [
    "df.groupby(['Cluster']).agg(lambda x: pd.Series.mode(x)[0])"
   ]
  },
  {
   "cell_type": "markdown",
   "metadata": {},
   "source": [
    "## Looking at the clusters"
   ]
  },
  {
   "cell_type": "code",
   "execution_count": 263,
   "metadata": {},
   "outputs": [
    {
     "data": {
      "text/plain": [
       "<seaborn.axisgrid.FacetGrid at 0x20d59244f48>"
      ]
     },
     "execution_count": 263,
     "metadata": {},
     "output_type": "execute_result"
    },
    {
     "data": {
      "image/png": "[encoded data removed]",
      "text/plain": [
       "<Figure size 720x360 with 2 Axes>"
      ]
     },
     "metadata": {
      "needs_background": "light"
     },
     "output_type": "display_data"
    }
   ],
   "source": [
    "sns.catplot(x = 'DAILY_STRESS', col = 'Cluster', data = df_inverse, kind='count')"
   ]
  },
  {
   "cell_type": "code",
   "execution_count": 265,
   "metadata": {},
   "outputs": [
    {
     "data": {
      "text/plain": [
       "<seaborn.axisgrid.FacetGrid at 0x20d59312908>"
      ]
     },
     "execution_count": 265,
     "metadata": {},
     "output_type": "execute_result"
    },
    {
     "data": {
      "image/png": "[encoded data removed]",
      "text/plain": [
       "<Figure size 720x360 with 2 Axes>"
      ]
     },
     "metadata": {
      "needs_background": "light"
     },
     "output_type": "display_data"
    }
   ],
   "source": [
    "sns.catplot(x = 'FRUITS_VEGGIES', col = 'Cluster', data = df_inverse, kind='count')"
   ]
  },
  {
   "cell_type": "code",
   "execution_count": 266,
   "metadata": {},
   "outputs": [
    {
     "data": {
      "text/plain": [
       "<seaborn.axisgrid.FacetGrid at 0x20d59525608>"
      ]
     },
     "execution_count": 266,
     "metadata": {},
     "output_type": "execute_result"
    },
    {
     "data": {
      "image/png": "[encoded data removed]",
      "text/plain": [
       "<Figure size 720x360 with 2 Axes>"
      ]
     },
     "metadata": {
      "needs_background": "light"
     },
     "output_type": "display_data"
    }
   ],
   "source": [
    "sns.catplot(x = 'PLACES_VISITED', col = 'Cluster', data = df_inverse, kind='count')"
   ]
  },
  {
   "cell_type": "code",
   "execution_count": 267,
   "metadata": {},
   "outputs": [
    {
     "data": {
      "text/plain": [
       "<seaborn.axisgrid.FacetGrid at 0x20d5933b2c8>"
      ]
     },
     "execution_count": 267,
     "metadata": {},
     "output_type": "execute_result"
    },
    {
     "data": {
      "image/png": "[encoded data removed]",
      "text/plain": [
       "<Figure size 720x360 with 2 Axes>"
      ]
     },
     "metadata": {
      "needs_background": "light"
     },
     "output_type": "display_data"
    }
   ],
   "source": [
    "sns.catplot(x = 'SUPPORTING_OTHERS', col = 'Cluster', data = df_inverse, kind='count')"
   ]
  },
  {
   "cell_type": "code",
   "execution_count": 268,
   "metadata": {},
   "outputs": [
    {
     "data": {
      "text/plain": [
       "<seaborn.axisgrid.FacetGrid at 0x20d59650e88>"
      ]
     },
     "execution_count": 268,
     "metadata": {},
     "output_type": "execute_result"
    },
    {
     "data": {
      "image/png": "[encoded data removed]",
      "text/plain": [
       "<Figure size 720x360 with 2 Axes>"
      ]
     },
     "metadata": {
      "needs_background": "light"
     },
     "output_type": "display_data"
    }
   ],
   "source": [
    "sns.catplot(x = 'ACHIEVEMENT', col = 'Cluster', data = df_inverse, kind='count')"
   ]
  },
  {
   "cell_type": "code",
   "execution_count": 667,
   "metadata": {},
   "outputs": [
    {
     "data": {
      "text/plain": [
       "<seaborn.axisgrid.FacetGrid at 0x175553d0>"
      ]
     },
     "execution_count": 667,
     "metadata": {},
     "output_type": "execute_result"
    },
    {
     "data": {
      "image/png": "[encoded data removed]",
      "text/plain": [
       "<Figure size 720x360 with 2 Axes>"
      ]
     },
     "metadata": {
      "needs_background": "light"
     },
     "output_type": "display_data"
    }
   ],
   "source": [
    "sns.catplot(x = 'SOCIAL_NETWORK', col = 'Cluster', data = df, kind='count')"
   ]
  },
  {
   "cell_type": "code",
   "execution_count": 272,
   "metadata": {},
   "outputs": [
    {
     "data": {
      "text/plain": [
       "<seaborn.axisgrid.FacetGrid at 0x20d5aa39c48>"
      ]
     },
     "execution_count": 272,
     "metadata": {},
     "output_type": "execute_result"
    },
    {
     "data": {
      "image/png": "[encoded data removed]",
      "text/plain": [
       "<Figure size 720x360 with 2 Axes>"
      ]
     },
     "metadata": {
      "needs_background": "light"
     },
     "output_type": "display_data"
    }
   ],
   "source": [
    " sns.catplot(x = 'LIVE_VISION', col = 'Cluster', data = df_inverse, kind='count')"
   ]
  },
  {
   "cell_type": "code",
   "execution_count": 270,
   "metadata": {},
   "outputs": [
    {
     "data": {
      "text/plain": [
       "<seaborn.axisgrid.FacetGrid at 0x20d5a8e5f08>"
      ]
     },
     "execution_count": 270,
     "metadata": {},
     "output_type": "execute_result"
    },
    {
     "data": {
      "image/png": "[encoded data removed]",
      "text/plain": [
       "<Figure size 720x360 with 2 Axes>"
      ]
     },
     "metadata": {
      "needs_background": "light"
     },
     "output_type": "display_data"
    }
   ],
   "source": [
    "sns.catplot(x = 'DAILY_STEPS', col = 'Cluster', data = df_inverse, kind='count')"
   ]
  },
  {
   "cell_type": "code",
   "execution_count": 275,
   "metadata": {},
   "outputs": [
    {
     "data": {
      "text/plain": [
       "<seaborn.axisgrid.FacetGrid at 0x20d5aab0648>"
      ]
     },
     "execution_count": 275,
     "metadata": {},
     "output_type": "execute_result"
    },
    {
     "data": {
      "image/png": "[encoded data removed]",
      "text/plain": [
       "<Figure size 720x360 with 2 Axes>"
      ]
     },
     "metadata": {
      "needs_background": "light"
     },
     "output_type": "display_data"
    }
   ],
   "source": [
    "sns.catplot(x = 'PERSONAL_AWARDS', col = 'Cluster', data = df_inverse, kind='count')"
   ]
  },
  {
   "cell_type": "code",
   "execution_count": 499,
   "metadata": {},
   "outputs": [
    {
     "data": {
      "text/plain": [
       "<seaborn.axisgrid.FacetGrid at 0x1cc91280>"
      ]
     },
     "execution_count": 499,
     "metadata": {},
     "output_type": "execute_result"
    },
    {
     "data": {
      "image/png": "[encoded data removed]",
      "text/plain": [
       "<Figure size 1440x360 with 4 Axes>"
      ]
     },
     "metadata": {
      "needs_background": "light"
     },
     "output_type": "display_data"
    }
   ],
   "source": [
    "sns.catplot(x = 'SUFFICIENT_INCOME', col = 'Cluster', data = df, kind='count')"
   ]
  },
  {
   "cell_type": "code",
   "execution_count": 500,
   "metadata": {},
   "outputs": [
    {
     "data": {
      "text/plain": [
       "<seaborn.axisgrid.FacetGrid at 0x1cca8d60>"
      ]
     },
     "execution_count": 500,
     "metadata": {},
     "output_type": "execute_result"
    },
    {
     "data": {
      "image/png": "[encoded data removed]",
      "text/plain": [
       "<Figure size 1440x360 with 4 Axes>"
      ]
     },
     "metadata": {
      "needs_background": "light"
     },
     "output_type": "display_data"
    }
   ],
   "source": [
    "sns.catplot(x = 'TIME_FOR_PASSION', col = 'Cluster', data = df, kind='count')"
   ]
  },
  {
   "cell_type": "code",
   "execution_count": 501,
   "metadata": {},
   "outputs": [
    {
     "data": {
      "text/plain": [
       "<seaborn.axisgrid.FacetGrid at 0x1d51eb20>"
      ]
     },
     "execution_count": 501,
     "metadata": {},
     "output_type": "execute_result"
    },
    {
     "data": {
      "image/png": "[encoded data removed]",
      "text/plain": [
       "<Figure size 1440x360 with 4 Axes>"
      ]
     },
     "metadata": {
      "needs_background": "light"
     },
     "output_type": "display_data"
    }
   ],
   "source": [
    "sns.catplot(x = 'FLOW', col = 'Cluster', data = df, kind='count')"
   ]
  },
  {
   "cell_type": "code",
   "execution_count": 502,
   "metadata": {},
   "outputs": [
    {
     "data": {
      "text/plain": [
       "<seaborn.axisgrid.FacetGrid at 0x199eb550>"
      ]
     },
     "execution_count": 502,
     "metadata": {},
     "output_type": "execute_result"
    },
    {
     "data": {
      "image/png": "[encoded data removed]",
      "text/plain": [
       "<Figure size 1440x360 with 4 Axes>"
      ]
     },
     "metadata": {
      "needs_background": "light"
     },
     "output_type": "display_data"
    }
   ],
   "source": [
    "sns.catplot(x = 'DAILY_MEDITATION', col = 'Cluster', data = df, kind='count')"
   ]
  },
  {
   "cell_type": "markdown",
   "metadata": {},
   "source": [
    "### Trying to determine the right k number for KMeans"
   ]
  },
  {
   "cell_type": "code",
   "execution_count": 312,
   "metadata": {},
   "outputs": [],
   "source": [
    "Sum_of_squared_distances = []\n",
    "K = range(1,15)\n",
    "for k in K:\n",
    "    km = KMeans(n_clusters=k)\n",
    "    km = km.fit(df[columns_to_cluster])\n",
    "    Sum_of_squared_distances.append(km.inertia_)"
   ]
  },
  {
   "cell_type": "code",
   "execution_count": 313,
   "metadata": {},
   "outputs": [
    {
     "data": {
      "image/png": "[encoded data removed]",
      "text/plain": [
       "<Figure size 432x288 with 1 Axes>"
      ]
     },
     "metadata": {
      "needs_background": "light"
     },
     "output_type": "display_data"
    }
   ],
   "source": [
    "plt.plot(K, Sum_of_squared_distances, 'bx-')\n",
    "plt.xlabel('k')\n",
    "plt.ylabel('Sum_of_squared_distances')\n",
    "plt.title('Elbow Method For Optimal k')\n",
    "plt.show()"
   ]
  },
  {
   "cell_type": "markdown",
   "metadata": {},
   "source": [
    "### DBSCAN"
   ]
  },
  {
   "cell_type": "code",
   "execution_count": 514,
   "metadata": {},
   "outputs": [],
   "source": [
    "# Your code here\n",
    "from sklearn.cluster import DBSCAN\n",
    "\n",
    "dbscan = DBSCAN(eps=0.8).fit(df[columns_to_cluster])\n",
    "df['cluster_DBSCAN']=dbscan.labels_"
   ]
  },
  {
   "cell_type": "code",
   "execution_count": 510,
   "metadata": {},
   "outputs": [
    {
     "data": {
      "text/plain": [
       "DBSCAN(algorithm='auto', eps=1.4, leaf_size=30, metric='euclidean',\n",
       "       metric_params=None, min_samples=5, n_jobs=None, p=None)"
      ]
     },
     "execution_count": 510,
     "metadata": {},
     "output_type": "execute_result"
    }
   ],
   "source": [
    "dbscan"
   ]
  },
  {
   "cell_type": "code",
   "execution_count": 515,
   "metadata": {},
   "outputs": [
    {
     "data": {
      "text/plain": [
       "array([ 0,  1,  2,  3,  4,  5,  6,  7, -1])"
      ]
     },
     "execution_count": 515,
     "metadata": {},
     "output_type": "execute_result"
    }
   ],
   "source": [
    "df.cluster_DBSCAN.unique()"
   ]
  },
  {
   "cell_type": "code",
   "execution_count": null,
   "metadata": {},
   "outputs": [],
   "source": []
  },
  {
   "cell_type": "markdown",
   "metadata": {},
   "source": [
    "### PCA"
   ]
  },
  {
   "cell_type": "code",
   "execution_count": 670,
   "metadata": {},
   "outputs": [
    {
     "data": {
      "text/plain": [
       "PCA(copy=True, iterated_power='auto', n_components=0.7, random_state=None,\n",
       "    svd_solver='auto', tol=0.0, whiten=False)"
      ]
     },
     "execution_count": 670,
     "metadata": {},
     "output_type": "execute_result"
    }
   ],
   "source": [
    "from sklearn.decomposition import PCA\n",
    "pca = PCA(0.70)\n",
    "pca.fit(df[columns_to_cluster])"
   ]
  },
  {
   "cell_type": "code",
   "execution_count": 671,
   "metadata": {},
   "outputs": [
    {
     "data": {
      "text/plain": [
       "array([0.181961  , 0.16923794, 0.16106833, 0.09367448, 0.06659303,\n",
       "       0.06315149])"
      ]
     },
     "execution_count": 671,
     "metadata": {},
     "output_type": "execute_result"
    }
   ],
   "source": [
    "(pca.explained_variance_ratio_)"
   ]
  },
  {
   "cell_type": "code",
   "execution_count": 529,
   "metadata": {},
   "outputs": [],
   "source": [
    "pca_df = pd.DataFrame(pca.transform(df[columns_to_cluster]), columns=['pca1', 'pca2', 'pca3', 'pca4', 'pca5', 'pca6'])"
   ]
  },
  {
   "cell_type": "code",
   "execution_count": 530,
   "metadata": {},
   "outputs": [
    {
     "data": {
      "text/html": [
       "<div>\n",
       "<style scoped>\n",
       "    .dataframe tbody tr th:only-of-type {\n",
       "        vertical-align: middle;\n",
       "    }\n",
       "\n",
       "    .dataframe tbody tr th {\n",
       "        vertical-align: top;\n",
       "    }\n",
       "\n",
       "    .dataframe thead th {\n",
       "        text-align: right;\n",
       "    }\n",
       "</style>\n",
       "<table border=\"1\" class=\"dataframe\">\n",
       "  <thead>\n",
       "    <tr style=\"text-align: right;\">\n",
       "      <th></th>\n",
       "      <th>pca1</th>\n",
       "      <th>pca2</th>\n",
       "      <th>pca3</th>\n",
       "      <th>pca4</th>\n",
       "      <th>pca5</th>\n",
       "      <th>pca6</th>\n",
       "    </tr>\n",
       "  </thead>\n",
       "  <tbody>\n",
       "    <tr>\n",
       "      <th>0</th>\n",
       "      <td>0.871435</td>\n",
       "      <td>-0.097887</td>\n",
       "      <td>-0.676325</td>\n",
       "      <td>-0.502011</td>\n",
       "      <td>-0.258682</td>\n",
       "      <td>0.032270</td>\n",
       "    </tr>\n",
       "    <tr>\n",
       "      <th>1</th>\n",
       "      <td>0.100477</td>\n",
       "      <td>0.799502</td>\n",
       "      <td>-0.533618</td>\n",
       "      <td>0.050962</td>\n",
       "      <td>-0.054549</td>\n",
       "      <td>0.258601</td>\n",
       "    </tr>\n",
       "    <tr>\n",
       "      <th>2</th>\n",
       "      <td>0.351451</td>\n",
       "      <td>0.829742</td>\n",
       "      <td>-0.491132</td>\n",
       "      <td>-0.024487</td>\n",
       "      <td>-0.034985</td>\n",
       "      <td>0.263430</td>\n",
       "    </tr>\n",
       "    <tr>\n",
       "      <th>3</th>\n",
       "      <td>-0.581086</td>\n",
       "      <td>0.549814</td>\n",
       "      <td>0.737709</td>\n",
       "      <td>-0.294288</td>\n",
       "      <td>0.145271</td>\n",
       "      <td>-0.549354</td>\n",
       "    </tr>\n",
       "    <tr>\n",
       "      <th>4</th>\n",
       "      <td>-0.457573</td>\n",
       "      <td>0.591687</td>\n",
       "      <td>0.773940</td>\n",
       "      <td>-0.383448</td>\n",
       "      <td>0.075536</td>\n",
       "      <td>-0.319504</td>\n",
       "    </tr>\n",
       "  </tbody>\n",
       "</table>\n",
       "</div>"
      ],
      "text/plain": [
       "       pca1      pca2      pca3      pca4      pca5      pca6\n",
       "0  0.871435 -0.097887 -0.676325 -0.502011 -0.258682  0.032270\n",
       "1  0.100477  0.799502 -0.533618  0.050962 -0.054549  0.258601\n",
       "2  0.351451  0.829742 -0.491132 -0.024487 -0.034985  0.263430\n",
       "3 -0.581086  0.549814  0.737709 -0.294288  0.145271 -0.549354\n",
       "4 -0.457573  0.591687  0.773940 -0.383448  0.075536 -0.319504"
      ]
     },
     "execution_count": 530,
     "metadata": {},
     "output_type": "execute_result"
    }
   ],
   "source": [
    "pca_df.head()"
   ]
  },
  {
   "cell_type": "code",
   "execution_count": 538,
   "metadata": {},
   "outputs": [
    {
     "data": {
      "text/plain": [
       "KMeans(algorithm='auto', copy_x=True, init='k-means++', max_iter=300,\n",
       "       n_clusters=2, n_init=10, n_jobs=None, precompute_distances='auto',\n",
       "       random_state=None, tol=0.0001, verbose=0)"
      ]
     },
     "execution_count": 538,
     "metadata": {},
     "output_type": "execute_result"
    }
   ],
   "source": [
    "\n",
    "df_clusters = KMeans(2) ## There is a way to decide the optimal number of clusters, but for now let's generate 5 clusters\n",
    "df_clusters.fit(pca_df)"
   ]
  },
  {
   "cell_type": "code",
   "execution_count": 539,
   "metadata": {},
   "outputs": [
    {
     "data": {
      "text/plain": [
       "array([1, 0, 0, ..., 1, 1, 1])"
      ]
     },
     "execution_count": 539,
     "metadata": {},
     "output_type": "execute_result"
    }
   ],
   "source": [
    "df_clusters.labels_"
   ]
  },
  {
   "cell_type": "code",
   "execution_count": 540,
   "metadata": {},
   "outputs": [],
   "source": [
    "df['Cluster_PCA'] = (df_clusters.labels_)"
   ]
  },
  {
   "cell_type": "code",
   "execution_count": 541,
   "metadata": {},
   "outputs": [
    {
     "data": {
      "text/html": [
       "<div>\n",
       "<style scoped>\n",
       "    .dataframe tbody tr th:only-of-type {\n",
       "        vertical-align: middle;\n",
       "    }\n",
       "\n",
       "    .dataframe tbody tr th {\n",
       "        vertical-align: top;\n",
       "    }\n",
       "\n",
       "    .dataframe thead th {\n",
       "        text-align: right;\n",
       "    }\n",
       "</style>\n",
       "<table border=\"1\" class=\"dataframe\">\n",
       "  <thead>\n",
       "    <tr style=\"text-align: right;\">\n",
       "      <th></th>\n",
       "      <th>FRUITS_VEGGIES</th>\n",
       "      <th>PLACES_VISITED</th>\n",
       "      <th>CORE_CIRCLE</th>\n",
       "      <th>SUPPORTING_OTHERS</th>\n",
       "      <th>SOCIAL_NETWORK</th>\n",
       "      <th>ACHIEVEMENT</th>\n",
       "      <th>DONATION</th>\n",
       "      <th>BMI_RANGE</th>\n",
       "      <th>TODO_COMPLETED</th>\n",
       "      <th>FLOW</th>\n",
       "      <th>...</th>\n",
       "      <th>TIME_FOR_PASSION</th>\n",
       "      <th>DAILY_MEDITATION</th>\n",
       "      <th>DAILY_STRESS</th>\n",
       "      <th>GENDER_Male</th>\n",
       "      <th>AGE_36 to 50</th>\n",
       "      <th>AGE_51 or more</th>\n",
       "      <th>AGE_Less than 20</th>\n",
       "      <th>Cluster</th>\n",
       "      <th>cluster_DBSCAN</th>\n",
       "      <th>Cluster_PCA</th>\n",
       "    </tr>\n",
       "  </thead>\n",
       "  <tbody>\n",
       "    <tr>\n",
       "      <th>1</th>\n",
       "      <td>0.4</td>\n",
       "      <td>0.4</td>\n",
       "      <td>0.3</td>\n",
       "      <td>0.8</td>\n",
       "      <td>1.0</td>\n",
       "      <td>0.5</td>\n",
       "      <td>0.4</td>\n",
       "      <td>1.0</td>\n",
       "      <td>0.5</td>\n",
       "      <td>0.2</td>\n",
       "      <td>...</td>\n",
       "      <td>0.2</td>\n",
       "      <td>0.6</td>\n",
       "      <td>3.0</td>\n",
       "      <td>0.0</td>\n",
       "      <td>1.0</td>\n",
       "      <td>0.0</td>\n",
       "      <td>0.0</td>\n",
       "      <td>1</td>\n",
       "      <td>1</td>\n",
       "      <td>0</td>\n",
       "    </tr>\n",
       "    <tr>\n",
       "      <th>2</th>\n",
       "      <td>0.4</td>\n",
       "      <td>0.3</td>\n",
       "      <td>0.4</td>\n",
       "      <td>0.4</td>\n",
       "      <td>1.0</td>\n",
       "      <td>0.3</td>\n",
       "      <td>0.4</td>\n",
       "      <td>1.0</td>\n",
       "      <td>0.2</td>\n",
       "      <td>0.2</td>\n",
       "      <td>...</td>\n",
       "      <td>0.8</td>\n",
       "      <td>0.3</td>\n",
       "      <td>3.0</td>\n",
       "      <td>0.0</td>\n",
       "      <td>1.0</td>\n",
       "      <td>0.0</td>\n",
       "      <td>0.0</td>\n",
       "      <td>1</td>\n",
       "      <td>1</td>\n",
       "      <td>0</td>\n",
       "    </tr>\n",
       "    <tr>\n",
       "      <th>3</th>\n",
       "      <td>0.6</td>\n",
       "      <td>1.0</td>\n",
       "      <td>0.3</td>\n",
       "      <td>1.0</td>\n",
       "      <td>0.7</td>\n",
       "      <td>0.2</td>\n",
       "      <td>1.0</td>\n",
       "      <td>1.0</td>\n",
       "      <td>0.3</td>\n",
       "      <td>0.5</td>\n",
       "      <td>...</td>\n",
       "      <td>0.2</td>\n",
       "      <td>0.0</td>\n",
       "      <td>3.0</td>\n",
       "      <td>0.0</td>\n",
       "      <td>0.0</td>\n",
       "      <td>1.0</td>\n",
       "      <td>0.0</td>\n",
       "      <td>0</td>\n",
       "      <td>2</td>\n",
       "      <td>0</td>\n",
       "    </tr>\n",
       "    <tr>\n",
       "      <th>4</th>\n",
       "      <td>1.0</td>\n",
       "      <td>0.3</td>\n",
       "      <td>0.3</td>\n",
       "      <td>1.0</td>\n",
       "      <td>0.4</td>\n",
       "      <td>0.2</td>\n",
       "      <td>0.8</td>\n",
       "      <td>1.0</td>\n",
       "      <td>0.5</td>\n",
       "      <td>0.0</td>\n",
       "      <td>...</td>\n",
       "      <td>0.1</td>\n",
       "      <td>0.5</td>\n",
       "      <td>1.0</td>\n",
       "      <td>0.0</td>\n",
       "      <td>0.0</td>\n",
       "      <td>1.0</td>\n",
       "      <td>0.0</td>\n",
       "      <td>0</td>\n",
       "      <td>2</td>\n",
       "      <td>0</td>\n",
       "    </tr>\n",
       "    <tr>\n",
       "      <th>6</th>\n",
       "      <td>0.8</td>\n",
       "      <td>1.0</td>\n",
       "      <td>0.6</td>\n",
       "      <td>1.0</td>\n",
       "      <td>1.0</td>\n",
       "      <td>0.3</td>\n",
       "      <td>1.0</td>\n",
       "      <td>1.0</td>\n",
       "      <td>0.8</td>\n",
       "      <td>0.8</td>\n",
       "      <td>...</td>\n",
       "      <td>0.8</td>\n",
       "      <td>1.0</td>\n",
       "      <td>2.0</td>\n",
       "      <td>1.0</td>\n",
       "      <td>0.0</td>\n",
       "      <td>1.0</td>\n",
       "      <td>0.0</td>\n",
       "      <td>0</td>\n",
       "      <td>2</td>\n",
       "      <td>0</td>\n",
       "    </tr>\n",
       "    <tr>\n",
       "      <th>...</th>\n",
       "      <td>...</td>\n",
       "      <td>...</td>\n",
       "      <td>...</td>\n",
       "      <td>...</td>\n",
       "      <td>...</td>\n",
       "      <td>...</td>\n",
       "      <td>...</td>\n",
       "      <td>...</td>\n",
       "      <td>...</td>\n",
       "      <td>...</td>\n",
       "      <td>...</td>\n",
       "      <td>...</td>\n",
       "      <td>...</td>\n",
       "      <td>...</td>\n",
       "      <td>...</td>\n",
       "      <td>...</td>\n",
       "      <td>...</td>\n",
       "      <td>...</td>\n",
       "      <td>...</td>\n",
       "      <td>...</td>\n",
       "      <td>...</td>\n",
       "    </tr>\n",
       "    <tr>\n",
       "      <th>12740</th>\n",
       "      <td>0.6</td>\n",
       "      <td>0.2</td>\n",
       "      <td>0.2</td>\n",
       "      <td>0.5</td>\n",
       "      <td>0.0</td>\n",
       "      <td>0.5</td>\n",
       "      <td>0.4</td>\n",
       "      <td>1.0</td>\n",
       "      <td>0.6</td>\n",
       "      <td>0.6</td>\n",
       "      <td>...</td>\n",
       "      <td>0.8</td>\n",
       "      <td>0.5</td>\n",
       "      <td>4.0</td>\n",
       "      <td>0.0</td>\n",
       "      <td>0.0</td>\n",
       "      <td>0.0</td>\n",
       "      <td>0.0</td>\n",
       "      <td>3</td>\n",
       "      <td>5</td>\n",
       "      <td>0</td>\n",
       "    </tr>\n",
       "    <tr>\n",
       "      <th>12745</th>\n",
       "      <td>0.6</td>\n",
       "      <td>0.5</td>\n",
       "      <td>1.0</td>\n",
       "      <td>0.7</td>\n",
       "      <td>1.0</td>\n",
       "      <td>0.3</td>\n",
       "      <td>0.4</td>\n",
       "      <td>1.0</td>\n",
       "      <td>0.6</td>\n",
       "      <td>0.6</td>\n",
       "      <td>...</td>\n",
       "      <td>0.5</td>\n",
       "      <td>0.5</td>\n",
       "      <td>1.0</td>\n",
       "      <td>0.0</td>\n",
       "      <td>1.0</td>\n",
       "      <td>0.0</td>\n",
       "      <td>0.0</td>\n",
       "      <td>1</td>\n",
       "      <td>1</td>\n",
       "      <td>0</td>\n",
       "    </tr>\n",
       "    <tr>\n",
       "      <th>12746</th>\n",
       "      <td>0.6</td>\n",
       "      <td>0.6</td>\n",
       "      <td>1.0</td>\n",
       "      <td>0.7</td>\n",
       "      <td>1.0</td>\n",
       "      <td>0.4</td>\n",
       "      <td>0.4</td>\n",
       "      <td>1.0</td>\n",
       "      <td>0.6</td>\n",
       "      <td>0.6</td>\n",
       "      <td>...</td>\n",
       "      <td>0.6</td>\n",
       "      <td>0.5</td>\n",
       "      <td>5.0</td>\n",
       "      <td>0.0</td>\n",
       "      <td>0.0</td>\n",
       "      <td>0.0</td>\n",
       "      <td>0.0</td>\n",
       "      <td>3</td>\n",
       "      <td>5</td>\n",
       "      <td>0</td>\n",
       "    </tr>\n",
       "    <tr>\n",
       "      <th>12747</th>\n",
       "      <td>0.6</td>\n",
       "      <td>0.6</td>\n",
       "      <td>1.0</td>\n",
       "      <td>0.8</td>\n",
       "      <td>0.8</td>\n",
       "      <td>0.4</td>\n",
       "      <td>0.4</td>\n",
       "      <td>1.0</td>\n",
       "      <td>0.6</td>\n",
       "      <td>0.6</td>\n",
       "      <td>...</td>\n",
       "      <td>0.6</td>\n",
       "      <td>0.5</td>\n",
       "      <td>4.0</td>\n",
       "      <td>0.0</td>\n",
       "      <td>0.0</td>\n",
       "      <td>0.0</td>\n",
       "      <td>0.0</td>\n",
       "      <td>3</td>\n",
       "      <td>5</td>\n",
       "      <td>0</td>\n",
       "    </tr>\n",
       "    <tr>\n",
       "      <th>12751</th>\n",
       "      <td>0.6</td>\n",
       "      <td>0.6</td>\n",
       "      <td>0.5</td>\n",
       "      <td>0.2</td>\n",
       "      <td>0.5</td>\n",
       "      <td>0.1</td>\n",
       "      <td>0.0</td>\n",
       "      <td>1.0</td>\n",
       "      <td>0.0</td>\n",
       "      <td>0.0</td>\n",
       "      <td>...</td>\n",
       "      <td>0.0</td>\n",
       "      <td>0.2</td>\n",
       "      <td>4.0</td>\n",
       "      <td>0.0</td>\n",
       "      <td>0.0</td>\n",
       "      <td>0.0</td>\n",
       "      <td>0.0</td>\n",
       "      <td>3</td>\n",
       "      <td>5</td>\n",
       "      <td>0</td>\n",
       "    </tr>\n",
       "  </tbody>\n",
       "</table>\n",
       "<p>5111 rows × 27 columns</p>\n",
       "</div>"
      ],
      "text/plain": [
       "       FRUITS_VEGGIES  PLACES_VISITED  CORE_CIRCLE  SUPPORTING_OTHERS  \\\n",
       "1                 0.4             0.4          0.3                0.8   \n",
       "2                 0.4             0.3          0.4                0.4   \n",
       "3                 0.6             1.0          0.3                1.0   \n",
       "4                 1.0             0.3          0.3                1.0   \n",
       "6                 0.8             1.0          0.6                1.0   \n",
       "...               ...             ...          ...                ...   \n",
       "12740             0.6             0.2          0.2                0.5   \n",
       "12745             0.6             0.5          1.0                0.7   \n",
       "12746             0.6             0.6          1.0                0.7   \n",
       "12747             0.6             0.6          1.0                0.8   \n",
       "12751             0.6             0.6          0.5                0.2   \n",
       "\n",
       "       SOCIAL_NETWORK  ACHIEVEMENT  DONATION  BMI_RANGE  TODO_COMPLETED  FLOW  \\\n",
       "1                 1.0          0.5       0.4        1.0             0.5   0.2   \n",
       "2                 1.0          0.3       0.4        1.0             0.2   0.2   \n",
       "3                 0.7          0.2       1.0        1.0             0.3   0.5   \n",
       "4                 0.4          0.2       0.8        1.0             0.5   0.0   \n",
       "6                 1.0          0.3       1.0        1.0             0.8   0.8   \n",
       "...               ...          ...       ...        ...             ...   ...   \n",
       "12740             0.0          0.5       0.4        1.0             0.6   0.6   \n",
       "12745             1.0          0.3       0.4        1.0             0.6   0.6   \n",
       "12746             1.0          0.4       0.4        1.0             0.6   0.6   \n",
       "12747             0.8          0.4       0.4        1.0             0.6   0.6   \n",
       "12751             0.5          0.1       0.0        1.0             0.0   0.0   \n",
       "\n",
       "       ...  TIME_FOR_PASSION  DAILY_MEDITATION  DAILY_STRESS  GENDER_Male  \\\n",
       "1      ...               0.2               0.6           3.0          0.0   \n",
       "2      ...               0.8               0.3           3.0          0.0   \n",
       "3      ...               0.2               0.0           3.0          0.0   \n",
       "4      ...               0.1               0.5           1.0          0.0   \n",
       "6      ...               0.8               1.0           2.0          1.0   \n",
       "...    ...               ...               ...           ...          ...   \n",
       "12740  ...               0.8               0.5           4.0          0.0   \n",
       "12745  ...               0.5               0.5           1.0          0.0   \n",
       "12746  ...               0.6               0.5           5.0          0.0   \n",
       "12747  ...               0.6               0.5           4.0          0.0   \n",
       "12751  ...               0.0               0.2           4.0          0.0   \n",
       "\n",
       "       AGE_36 to 50  AGE_51 or more  AGE_Less than 20  Cluster  \\\n",
       "1               1.0             0.0               0.0        1   \n",
       "2               1.0             0.0               0.0        1   \n",
       "3               0.0             1.0               0.0        0   \n",
       "4               0.0             1.0               0.0        0   \n",
       "6               0.0             1.0               0.0        0   \n",
       "...             ...             ...               ...      ...   \n",
       "12740           0.0             0.0               0.0        3   \n",
       "12745           1.0             0.0               0.0        1   \n",
       "12746           0.0             0.0               0.0        3   \n",
       "12747           0.0             0.0               0.0        3   \n",
       "12751           0.0             0.0               0.0        3   \n",
       "\n",
       "       cluster_DBSCAN  Cluster_PCA  \n",
       "1                   1            0  \n",
       "2                   1            0  \n",
       "3                   2            0  \n",
       "4                   2            0  \n",
       "6                   2            0  \n",
       "...               ...          ...  \n",
       "12740               5            0  \n",
       "12745               1            0  \n",
       "12746               5            0  \n",
       "12747               5            0  \n",
       "12751               5            0  \n",
       "\n",
       "[5111 rows x 27 columns]"
      ]
     },
     "execution_count": 541,
     "metadata": {},
     "output_type": "execute_result"
    }
   ],
   "source": [
    "df[df['Cluster_PCA']==0]"
   ]
  },
  {
   "cell_type": "code",
   "execution_count": 542,
   "metadata": {},
   "outputs": [
    {
     "data": {
      "text/plain": [
       "<seaborn.axisgrid.FacetGrid at 0x1ee74f40>"
      ]
     },
     "execution_count": 542,
     "metadata": {},
     "output_type": "execute_result"
    },
    {
     "data": {
      "image/png": "[encoded data removed]",
      "text/plain": [
       "<Figure size 720x360 with 2 Axes>"
      ]
     },
     "metadata": {
      "needs_background": "light"
     },
     "output_type": "display_data"
    }
   ],
   "source": [
    "sns.catplot(x = 'DAILY_STRESS', col = 'Cluster_PCA', data = df, kind='count')"
   ]
  },
  {
   "cell_type": "markdown",
   "metadata": {},
   "source": [
    "### Now, we will try to use the clusters in the classifier : \n",
    "1. Drop the columns used to perform the clusterization\n",
    "2. Perform a classification to predict y (DAILY_STRESS)"
   ]
  },
  {
   "cell_type": "code",
   "execution_count": 276,
   "metadata": {},
   "outputs": [],
   "source": [
    "df_test = df.drop(columns = columns_to_cluster)"
   ]
  },
  {
   "cell_type": "code",
   "execution_count": 327,
   "metadata": {},
   "outputs": [],
   "source": [
    "X_train, X_test, y_train, y_test = train_test_split(df_test.drop('DAILY_STRESS', axis = 1), df_test.DAILY_STRESS, test_size = 0.20, random_state = 42, stratify = df_test.DAILY_STRESS)"
   ]
  },
  {
   "cell_type": "code",
   "execution_count": 453,
   "metadata": {},
   "outputs": [
    {
     "data": {
      "text/html": [
       "<div>\n",
       "<style scoped>\n",
       "    .dataframe tbody tr th:only-of-type {\n",
       "        vertical-align: middle;\n",
       "    }\n",
       "\n",
       "    .dataframe tbody tr th {\n",
       "        vertical-align: top;\n",
       "    }\n",
       "\n",
       "    .dataframe thead th {\n",
       "        text-align: right;\n",
       "    }\n",
       "</style>\n",
       "<table border=\"1\" class=\"dataframe\">\n",
       "  <thead>\n",
       "    <tr style=\"text-align: right;\">\n",
       "      <th></th>\n",
       "      <th>SOCIAL_NETWORK</th>\n",
       "      <th>FLOW</th>\n",
       "      <th>SLEEP_HOURS</th>\n",
       "      <th>LOST_VACATION</th>\n",
       "      <th>DAILY_SHOUTING</th>\n",
       "      <th>SUFFICIENT_INCOME</th>\n",
       "      <th>DAILY_MEDITATION</th>\n",
       "      <th>DAILY_STRESS</th>\n",
       "      <th>GENDER_Male</th>\n",
       "      <th>AGE_36 to 50</th>\n",
       "      <th>AGE_51 or more</th>\n",
       "      <th>AGE_Less than 20</th>\n",
       "      <th>Cluster</th>\n",
       "    </tr>\n",
       "  </thead>\n",
       "  <tbody>\n",
       "    <tr>\n",
       "      <th>1</th>\n",
       "      <td>1.118386</td>\n",
       "      <td>-0.482498</td>\n",
       "      <td>0.802558</td>\n",
       "      <td>-0.226759</td>\n",
       "      <td>-0.342291</td>\n",
       "      <td>0.610964</td>\n",
       "      <td>-0.083419</td>\n",
       "      <td>3.0</td>\n",
       "      <td>0.0</td>\n",
       "      <td>1.0</td>\n",
       "      <td>0.0</td>\n",
       "      <td>0.0</td>\n",
       "      <td>0</td>\n",
       "    </tr>\n",
       "    <tr>\n",
       "      <th>2</th>\n",
       "      <td>1.118386</td>\n",
       "      <td>-0.482498</td>\n",
       "      <td>0.802558</td>\n",
       "      <td>1.952212</td>\n",
       "      <td>-0.342291</td>\n",
       "      <td>0.610964</td>\n",
       "      <td>-1.071969</td>\n",
       "      <td>3.0</td>\n",
       "      <td>0.0</td>\n",
       "      <td>1.0</td>\n",
       "      <td>0.0</td>\n",
       "      <td>0.0</td>\n",
       "      <td>0</td>\n",
       "    </tr>\n",
       "    <tr>\n",
       "      <th>3</th>\n",
       "      <td>0.145550</td>\n",
       "      <td>0.802584</td>\n",
       "      <td>-1.692963</td>\n",
       "      <td>1.135098</td>\n",
       "      <td>0.773076</td>\n",
       "      <td>-1.636757</td>\n",
       "      <td>-2.060520</td>\n",
       "      <td>3.0</td>\n",
       "      <td>0.0</td>\n",
       "      <td>0.0</td>\n",
       "      <td>1.0</td>\n",
       "      <td>0.0</td>\n",
       "      <td>0</td>\n",
       "    </tr>\n",
       "    <tr>\n",
       "      <th>4</th>\n",
       "      <td>-0.827285</td>\n",
       "      <td>-1.339219</td>\n",
       "      <td>-0.029282</td>\n",
       "      <td>-0.771502</td>\n",
       "      <td>-1.085869</td>\n",
       "      <td>0.610964</td>\n",
       "      <td>-0.412936</td>\n",
       "      <td>1.0</td>\n",
       "      <td>0.0</td>\n",
       "      <td>0.0</td>\n",
       "      <td>1.0</td>\n",
       "      <td>0.0</td>\n",
       "      <td>0</td>\n",
       "    </tr>\n",
       "    <tr>\n",
       "      <th>9</th>\n",
       "      <td>1.118386</td>\n",
       "      <td>-0.482498</td>\n",
       "      <td>-0.861123</td>\n",
       "      <td>-0.771502</td>\n",
       "      <td>-1.085869</td>\n",
       "      <td>-1.636757</td>\n",
       "      <td>-1.731003</td>\n",
       "      <td>4.0</td>\n",
       "      <td>0.0</td>\n",
       "      <td>0.0</td>\n",
       "      <td>1.0</td>\n",
       "      <td>0.0</td>\n",
       "      <td>0</td>\n",
       "    </tr>\n",
       "    <tr>\n",
       "      <th>...</th>\n",
       "      <td>...</td>\n",
       "      <td>...</td>\n",
       "      <td>...</td>\n",
       "      <td>...</td>\n",
       "      <td>...</td>\n",
       "      <td>...</td>\n",
       "      <td>...</td>\n",
       "      <td>...</td>\n",
       "      <td>...</td>\n",
       "      <td>...</td>\n",
       "      <td>...</td>\n",
       "      <td>...</td>\n",
       "      <td>...</td>\n",
       "    </tr>\n",
       "    <tr>\n",
       "      <th>12737</th>\n",
       "      <td>-0.503007</td>\n",
       "      <td>1.230945</td>\n",
       "      <td>-0.029282</td>\n",
       "      <td>-0.771502</td>\n",
       "      <td>0.773076</td>\n",
       "      <td>-1.636757</td>\n",
       "      <td>-0.412936</td>\n",
       "      <td>5.0</td>\n",
       "      <td>1.0</td>\n",
       "      <td>1.0</td>\n",
       "      <td>0.0</td>\n",
       "      <td>0.0</td>\n",
       "      <td>0</td>\n",
       "    </tr>\n",
       "    <tr>\n",
       "      <th>12740</th>\n",
       "      <td>-2.124399</td>\n",
       "      <td>1.230945</td>\n",
       "      <td>-0.029282</td>\n",
       "      <td>0.317984</td>\n",
       "      <td>0.773076</td>\n",
       "      <td>0.610964</td>\n",
       "      <td>-0.412936</td>\n",
       "      <td>4.0</td>\n",
       "      <td>0.0</td>\n",
       "      <td>0.0</td>\n",
       "      <td>0.0</td>\n",
       "      <td>0.0</td>\n",
       "      <td>0</td>\n",
       "    </tr>\n",
       "    <tr>\n",
       "      <th>12745</th>\n",
       "      <td>1.118386</td>\n",
       "      <td>1.230945</td>\n",
       "      <td>-1.692963</td>\n",
       "      <td>0.590355</td>\n",
       "      <td>0.029498</td>\n",
       "      <td>-1.636757</td>\n",
       "      <td>-0.412936</td>\n",
       "      <td>1.0</td>\n",
       "      <td>0.0</td>\n",
       "      <td>1.0</td>\n",
       "      <td>0.0</td>\n",
       "      <td>0.0</td>\n",
       "      <td>0</td>\n",
       "    </tr>\n",
       "    <tr>\n",
       "      <th>12746</th>\n",
       "      <td>1.118386</td>\n",
       "      <td>1.230945</td>\n",
       "      <td>-1.692963</td>\n",
       "      <td>0.590355</td>\n",
       "      <td>0.029498</td>\n",
       "      <td>-1.636757</td>\n",
       "      <td>-0.412936</td>\n",
       "      <td>5.0</td>\n",
       "      <td>0.0</td>\n",
       "      <td>0.0</td>\n",
       "      <td>0.0</td>\n",
       "      <td>0.0</td>\n",
       "      <td>0</td>\n",
       "    </tr>\n",
       "    <tr>\n",
       "      <th>12747</th>\n",
       "      <td>0.469829</td>\n",
       "      <td>1.230945</td>\n",
       "      <td>-1.692963</td>\n",
       "      <td>0.590355</td>\n",
       "      <td>0.029498</td>\n",
       "      <td>-1.636757</td>\n",
       "      <td>-0.412936</td>\n",
       "      <td>4.0</td>\n",
       "      <td>0.0</td>\n",
       "      <td>0.0</td>\n",
       "      <td>0.0</td>\n",
       "      <td>0.0</td>\n",
       "      <td>0</td>\n",
       "    </tr>\n",
       "  </tbody>\n",
       "</table>\n",
       "<p>2943 rows × 13 columns</p>\n",
       "</div>"
      ],
      "text/plain": [
       "       SOCIAL_NETWORK      FLOW  SLEEP_HOURS  LOST_VACATION  DAILY_SHOUTING  \\\n",
       "1            1.118386 -0.482498     0.802558      -0.226759       -0.342291   \n",
       "2            1.118386 -0.482498     0.802558       1.952212       -0.342291   \n",
       "3            0.145550  0.802584    -1.692963       1.135098        0.773076   \n",
       "4           -0.827285 -1.339219    -0.029282      -0.771502       -1.085869   \n",
       "9            1.118386 -0.482498    -0.861123      -0.771502       -1.085869   \n",
       "...               ...       ...          ...            ...             ...   \n",
       "12737       -0.503007  1.230945    -0.029282      -0.771502        0.773076   \n",
       "12740       -2.124399  1.230945    -0.029282       0.317984        0.773076   \n",
       "12745        1.118386  1.230945    -1.692963       0.590355        0.029498   \n",
       "12746        1.118386  1.230945    -1.692963       0.590355        0.029498   \n",
       "12747        0.469829  1.230945    -1.692963       0.590355        0.029498   \n",
       "\n",
       "       SUFFICIENT_INCOME  DAILY_MEDITATION  DAILY_STRESS  GENDER_Male  \\\n",
       "1               0.610964         -0.083419           3.0          0.0   \n",
       "2               0.610964         -1.071969           3.0          0.0   \n",
       "3              -1.636757         -2.060520           3.0          0.0   \n",
       "4               0.610964         -0.412936           1.0          0.0   \n",
       "9              -1.636757         -1.731003           4.0          0.0   \n",
       "...                  ...               ...           ...          ...   \n",
       "12737          -1.636757         -0.412936           5.0          1.0   \n",
       "12740           0.610964         -0.412936           4.0          0.0   \n",
       "12745          -1.636757         -0.412936           1.0          0.0   \n",
       "12746          -1.636757         -0.412936           5.0          0.0   \n",
       "12747          -1.636757         -0.412936           4.0          0.0   \n",
       "\n",
       "       AGE_36 to 50  AGE_51 or more  AGE_Less than 20  Cluster  \n",
       "1               1.0             0.0               0.0        0  \n",
       "2               1.0             0.0               0.0        0  \n",
       "3               0.0             1.0               0.0        0  \n",
       "4               0.0             1.0               0.0        0  \n",
       "9               0.0             1.0               0.0        0  \n",
       "...             ...             ...               ...      ...  \n",
       "12737           1.0             0.0               0.0        0  \n",
       "12740           0.0             0.0               0.0        0  \n",
       "12745           1.0             0.0               0.0        0  \n",
       "12746           0.0             0.0               0.0        0  \n",
       "12747           0.0             0.0               0.0        0  \n",
       "\n",
       "[2943 rows x 13 columns]"
      ]
     },
     "execution_count": 453,
     "metadata": {},
     "output_type": "execute_result"
    }
   ],
   "source": [
    "df_test.loc[df_test.Cluster == 0]"
   ]
  },
  {
   "cell_type": "code",
   "execution_count": 278,
   "metadata": {},
   "outputs": [],
   "source": [
    "logreg = LogisticRegression(max_iter=10000)\n",
    "logreg.fit(X_train,y_train)\n",
    "pred = logreg.predict(X_test)"
   ]
  },
  {
   "cell_type": "code",
   "execution_count": 279,
   "metadata": {},
   "outputs": [
    {
     "data": {
      "text/plain": [
       "array([[ 464,  577],\n",
       "       [ 307, 1203]], dtype=int64)"
      ]
     },
     "execution_count": 279,
     "metadata": {},
     "output_type": "execute_result"
    }
   ],
   "source": [
    "confusion_matrix(y_test, pred)"
   ]
  },
  {
   "cell_type": "code",
   "execution_count": 280,
   "metadata": {},
   "outputs": [
    {
     "data": {
      "text/plain": [
       "0.653469227753822"
      ]
     },
     "execution_count": 280,
     "metadata": {},
     "output_type": "execute_result"
    }
   ],
   "source": [
    "accuracy_score(y_test, pred)"
   ]
  },
  {
   "cell_type": "code",
   "execution_count": 334,
   "metadata": {},
   "outputs": [],
   "source": [
    "from sklearn.ensemble import RandomForestClassifier\n",
    "RF = RandomForestClassifier()\n",
    "RF.fit(X_train,y_train)\n",
    "pred2 = RF.predict(X_test)"
   ]
  },
  {
   "cell_type": "code",
   "execution_count": 335,
   "metadata": {},
   "outputs": [
    {
     "data": {
      "text/plain": [
       "array([[ 516,  535],\n",
       "       [ 333, 1167]], dtype=int64)"
      ]
     },
     "execution_count": 335,
     "metadata": {},
     "output_type": "execute_result"
    }
   ],
   "source": [
    "confusion_matrix(y_test, pred2)"
   ]
  },
  {
   "cell_type": "code",
   "execution_count": 336,
   "metadata": {},
   "outputs": [
    {
     "data": {
      "text/plain": [
       "0.6597412779302234"
      ]
     },
     "execution_count": 336,
     "metadata": {},
     "output_type": "execute_result"
    }
   ],
   "source": [
    "accuracy_score(y_test, pred2)"
   ]
  },
  {
   "cell_type": "code",
   "execution_count": null,
   "metadata": {},
   "outputs": [],
   "source": [
    "from sklearn.ensemble import RandomForestClassifier\n",
    "RF = RandomForestClassifier()\n",
    "RF.fit(X_train,y_train)\n",
    "pred2 = RF.predict(X_test)"
   ]
  },
  {
   "cell_type": "code",
   "execution_count": 284,
   "metadata": {},
   "outputs": [],
   "source": [
    "from sklearn.ensemble import AdaBoostClassifier\n",
    "model4 = AdaBoostClassifier()\n",
    "model4.fit(X_train, y_train)\n",
    "pred4 = model4.predict(X_test)"
   ]
  },
  {
   "cell_type": "code",
   "execution_count": 285,
   "metadata": {},
   "outputs": [
    {
     "data": {
      "text/plain": [
       "array([[ 482,  559],\n",
       "       [ 332, 1178]], dtype=int64)"
      ]
     },
     "execution_count": 285,
     "metadata": {},
     "output_type": "execute_result"
    }
   ],
   "source": [
    "confusion_matrix(y_test, pred4)"
   ]
  },
  {
   "cell_type": "code",
   "execution_count": 286,
   "metadata": {},
   "outputs": [
    {
     "data": {
      "text/plain": [
       "0.6507252058016464"
      ]
     },
     "execution_count": 286,
     "metadata": {},
     "output_type": "execute_result"
    }
   ],
   "source": [
    "accuracy_score(y_test, pred4)"
   ]
  },
  {
   "cell_type": "code",
   "execution_count": 287,
   "metadata": {},
   "outputs": [],
   "source": [
    "from sklearn.svm import NuSVC\n",
    "model6 = NuSVC(nu=0.1)\n",
    "model6.fit(X_train, y_train)\n",
    "pred6 = model6.predict(X_test)"
   ]
  },
  {
   "cell_type": "code",
   "execution_count": 288,
   "metadata": {},
   "outputs": [
    {
     "data": {
      "text/plain": [
       "array([[549, 492],\n",
       "       [561, 949]], dtype=int64)"
      ]
     },
     "execution_count": 288,
     "metadata": {},
     "output_type": "execute_result"
    }
   ],
   "source": [
    "confusion_matrix(y_test, pred6)"
   ]
  },
  {
   "cell_type": "code",
   "execution_count": 289,
   "metadata": {},
   "outputs": [
    {
     "data": {
      "text/plain": [
       "0.5872206977655822"
      ]
     },
     "execution_count": 289,
     "metadata": {},
     "output_type": "execute_result"
    }
   ],
   "source": [
    "accuracy_score(y_test, pred6)"
   ]
  },
  {
   "cell_type": "code",
   "execution_count": 290,
   "metadata": {},
   "outputs": [],
   "source": [
    "from sklearn.tree import DecisionTreeClassifier\n",
    "model1 = DecisionTreeClassifier()\n",
    "model1.fit(X_train,y_train)\n",
    "pred7 = model1.predict(X_test)"
   ]
  },
  {
   "cell_type": "code",
   "execution_count": 291,
   "metadata": {},
   "outputs": [
    {
     "data": {
      "text/plain": [
       "array([[523, 518],\n",
       "       [518, 992]], dtype=int64)"
      ]
     },
     "execution_count": 291,
     "metadata": {},
     "output_type": "execute_result"
    }
   ],
   "source": [
    "from sklearn.metrics import confusion_matrix\n",
    "confusion_matrix(y_test, pred7)"
   ]
  },
  {
   "cell_type": "code",
   "execution_count": 292,
   "metadata": {},
   "outputs": [
    {
     "data": {
      "text/plain": [
       "0.5938847510780086"
      ]
     },
     "execution_count": 292,
     "metadata": {},
     "output_type": "execute_result"
    }
   ],
   "source": [
    "from sklearn.metrics import accuracy_score\n",
    "accuracy_score(y_test, pred7)"
   ]
  },
  {
   "cell_type": "code",
   "execution_count": 328,
   "metadata": {},
   "outputs": [
    {
     "data": {
      "text/plain": [
       "array([[ 493,  558],\n",
       "       [ 300, 1200]], dtype=int64)"
      ]
     },
     "execution_count": 328,
     "metadata": {},
     "output_type": "execute_result"
    }
   ],
   "source": [
    "XG = xgb.XGBClassifier()\n",
    "XG.fit(X_train,y_train)\n",
    "predXG = XG.predict(X_test)\n",
    "confusion_matrix(y_test,predXG)"
   ]
  },
  {
   "cell_type": "code",
   "execution_count": 329,
   "metadata": {},
   "outputs": [
    {
     "data": {
      "text/plain": [
       "0.6636613092904743"
      ]
     },
     "execution_count": 329,
     "metadata": {},
     "output_type": "execute_result"
    }
   ],
   "source": [
    "accuracy_score(y_test, predXG)"
   ]
  },
  {
   "cell_type": "code",
   "execution_count": 330,
   "metadata": {},
   "outputs": [
    {
     "data": {
      "text/plain": [
       "0.6825938566552902"
      ]
     },
     "execution_count": 330,
     "metadata": {},
     "output_type": "execute_result"
    }
   ],
   "source": [
    "from sklearn.metrics import precision_score\n",
    "precision_score(y_test, predXG)"
   ]
  },
  {
   "cell_type": "code",
   "execution_count": 331,
   "metadata": {},
   "outputs": [
    {
     "data": {
      "text/plain": [
       "0.8"
      ]
     },
     "execution_count": 331,
     "metadata": {},
     "output_type": "execute_result"
    }
   ],
   "source": [
    "from sklearn.metrics import recall_score\n",
    "recall_score(y_test, predXG)"
   ]
  },
  {
   "cell_type": "code",
   "execution_count": 332,
   "metadata": {},
   "outputs": [
    {
     "data": {
      "text/plain": [
       "0.736648250460405"
      ]
     },
     "execution_count": 332,
     "metadata": {},
     "output_type": "execute_result"
    }
   ],
   "source": [
    "from sklearn.metrics import f1_score\n",
    "f1_score(y_test, predXG)"
   ]
  },
  {
   "cell_type": "code",
   "execution_count": 333,
   "metadata": {},
   "outputs": [
    {
     "name": "stdout",
     "output_type": "stream",
     "text": [
      "              precision    recall  f1-score   support\n",
      "\n",
      "           0       0.62      0.47      0.53      1051\n",
      "           1       0.68      0.80      0.74      1500\n",
      "\n",
      "    accuracy                           0.66      2551\n",
      "   macro avg       0.65      0.63      0.64      2551\n",
      "weighted avg       0.66      0.66      0.65      2551\n",
      "\n"
     ]
    }
   ],
   "source": [
    "from sklearn.metrics import classification_report\n",
    "print(classification_report(y_test, predXG))"
   ]
  },
  {
   "cell_type": "markdown",
   "metadata": {},
   "source": [
    "### Cluster of the whole dataset"
   ]
  },
  {
   "cell_type": "code",
   "execution_count": 112,
   "metadata": {},
   "outputs": [
    {
     "data": {
      "text/plain": [
       "PCA(copy=True, iterated_power='auto', n_components=0.6, random_state=None,\n",
       "    svd_solver='auto', tol=0.0, whiten=False)"
      ]
     },
     "execution_count": 112,
     "metadata": {},
     "output_type": "execute_result"
    }
   ],
   "source": [
    "from sklearn.decomposition import PCA\n",
    "pca = PCA(0.60)\n",
    "pca.fit(df)"
   ]
  },
  {
   "cell_type": "code",
   "execution_count": 113,
   "metadata": {},
   "outputs": [
    {
     "data": {
      "text/plain": [
       "array([0.1998128 , 0.09464697, 0.06163419, 0.052849  , 0.04939381,\n",
       "       0.04413813, 0.04317081, 0.04147594, 0.04074228])"
      ]
     },
     "execution_count": 113,
     "metadata": {},
     "output_type": "execute_result"
    }
   ],
   "source": [
    "(pca.explained_variance_ratio_)"
   ]
  },
  {
   "cell_type": "code",
   "execution_count": 114,
   "metadata": {},
   "outputs": [],
   "source": [
    "full_pca_df = pd.DataFrame(pca.transform(df), columns=['pca1', 'pca2', 'pca3', 'pca4', 'pca5', 'pca6', 'pca7', 'pca8', 'pca9'])"
   ]
  },
  {
   "cell_type": "code",
   "execution_count": 98,
   "metadata": {},
   "outputs": [],
   "source": [
    "Sum_of_squared_distances = []\n",
    "K = range(1,15)\n",
    "for k in K:\n",
    "    km = KMeans(n_clusters=k)\n",
    "    km = km.fit(df)\n",
    "    Sum_of_squared_distances.append(km.inertia_)"
   ]
  },
  {
   "cell_type": "code",
   "execution_count": 64,
   "metadata": {},
   "outputs": [
    {
     "data": {
      "image/png": "[encoded data removed]",
      "text/plain": [
       "<Figure size 432x288 with 1 Axes>"
      ]
     },
     "metadata": {
      "needs_background": "light"
     },
     "output_type": "display_data"
    }
   ],
   "source": [
    "plt.plot(K, Sum_of_squared_distances, 'bx-', color = 'r')\n",
    "plt.xlabel('k')\n",
    "plt.ylabel('Sum_of_squared_distances')\n",
    "plt.title('Elbow Method For Optimal k')\n",
    "plt.show()"
   ]
  },
  {
   "cell_type": "code",
   "execution_count": 202,
   "metadata": {},
   "outputs": [
    {
     "data": {
      "text/plain": [
       "KMeans(algorithm='auto', copy_x=True, init='k-means++', max_iter=300,\n",
       "       n_clusters=2, n_init=10, n_jobs=None, precompute_distances='auto',\n",
       "       random_state=None, tol=0.0001, verbose=0)"
      ]
     },
     "execution_count": 202,
     "metadata": {},
     "output_type": "execute_result"
    }
   ],
   "source": [
    "full_df_clusters = KMeans(2) ## There is a way to decide the optimal number of clusters, but for now let's generate 5 clusters\n",
    "full_df_clusters.fit(full_pca_df)"
   ]
  },
  {
   "cell_type": "code",
   "execution_count": 203,
   "metadata": {},
   "outputs": [
    {
     "data": {
      "text/plain": [
       "array([0, 0, 0, ..., 0, 1, 0])"
      ]
     },
     "execution_count": 203,
     "metadata": {},
     "output_type": "execute_result"
    }
   ],
   "source": [
    "full_df_clusters.labels_"
   ]
  },
  {
   "cell_type": "code",
   "execution_count": 204,
   "metadata": {},
   "outputs": [],
   "source": [
    "df['Full_Cluster'] = full_df_clusters.labels_"
   ]
  },
  {
   "cell_type": "code",
   "execution_count": 205,
   "metadata": {},
   "outputs": [],
   "source": [
    "df_inverse['Full_Cluster'] = full_df_clusters.labels_"
   ]
  },
  {
   "cell_type": "code",
   "execution_count": 206,
   "metadata": {},
   "outputs": [
    {
     "data": {
      "text/plain": [
       "1    6383\n",
       "0    6371\n",
       "Name: Full_Cluster, dtype: int64"
      ]
     },
     "execution_count": 206,
     "metadata": {},
     "output_type": "execute_result"
    }
   ],
   "source": [
    "df.Full_Cluster.value_counts()"
   ]
  },
  {
   "cell_type": "code",
   "execution_count": 207,
   "metadata": {},
   "outputs": [
    {
     "data": {
      "text/plain": [
       "<seaborn.axisgrid.FacetGrid at 0x20d572733c8>"
      ]
     },
     "execution_count": 207,
     "metadata": {},
     "output_type": "execute_result"
    },
    {
     "data": {
      "image/png": "[encoded data removed]",
      "text/plain": [
       "<Figure size 720x360 with 2 Axes>"
      ]
     },
     "metadata": {
      "needs_background": "light"
     },
     "output_type": "display_data"
    }
   ],
   "source": [
    "sns.catplot(x = 'DAILY_STRESS', col = 'Full_Cluster', data = df, kind='count')"
   ]
  },
  {
   "cell_type": "code",
   "execution_count": 208,
   "metadata": {},
   "outputs": [
    {
     "data": {
      "text/plain": [
       "<seaborn.axisgrid.FacetGrid at 0x20d57021e48>"
      ]
     },
     "execution_count": 208,
     "metadata": {},
     "output_type": "execute_result"
    },
    {
     "data": {
      "image/png": "[encoded data removed]",
      "text/plain": [
       "<Figure size 720x360 with 2 Axes>"
      ]
     },
     "metadata": {
      "needs_background": "light"
     },
     "output_type": "display_data"
    }
   ],
   "source": [
    "sns.catplot(x = 'DAILY_SHOUTING', col = 'Full_Cluster', data = df_inverse, kind='count')"
   ]
  },
  {
   "cell_type": "code",
   "execution_count": 209,
   "metadata": {},
   "outputs": [
    {
     "data": {
      "text/plain": [
       "<seaborn.axisgrid.FacetGrid at 0x20d57309f48>"
      ]
     },
     "execution_count": 209,
     "metadata": {},
     "output_type": "execute_result"
    },
    {
     "data": {
      "image/png": "[encoded data removed]",
      "text/plain": [
       "<Figure size 720x360 with 2 Axes>"
      ]
     },
     "metadata": {
      "needs_background": "light"
     },
     "output_type": "display_data"
    }
   ],
   "source": [
    "sns.catplot(x = 'SLEEP_HOURS', col = 'Full_Cluster', data = df_inverse, kind='count')"
   ]
  },
  {
   "cell_type": "code",
   "execution_count": 188,
   "metadata": {},
   "outputs": [
    {
     "data": {
      "text/plain": [
       "<seaborn.axisgrid.FacetGrid at 0x20d4eb39648>"
      ]
     },
     "execution_count": 188,
     "metadata": {},
     "output_type": "execute_result"
    },
    {
     "data": {
      "image/png": "[encoded data removed]",
      "text/plain": [
       "<Figure size 1080x360 with 3 Axes>"
      ]
     },
     "metadata": {
      "needs_background": "light"
     },
     "output_type": "display_data"
    }
   ],
   "source": [
    "sns.catplot(x = 'SUFFICIENT_INCOME', col = 'Full_Cluster', data = df_inverse, kind='count')"
   ]
  },
  {
   "cell_type": "code",
   "execution_count": 195,
   "metadata": {},
   "outputs": [
    {
     "data": {
      "text/plain": [
       "<seaborn.axisgrid.FacetGrid at 0x20d56d36d48>"
      ]
     },
     "execution_count": 195,
     "metadata": {},
     "output_type": "execute_result"
    },
    {
     "data": {
      "image/png": "[encoded data removed]",
      "text/plain": [
       "<Figure size 1080x360 with 3 Axes>"
      ]
     },
     "metadata": {
      "needs_background": "light"
     },
     "output_type": "display_data"
    }
   ],
   "source": [
    "sns.catplot(x = 'FRUITS_VEGGIES', col = 'Full_Cluster', data = df_inverse, kind='count')"
   ]
  },
  {
   "cell_type": "code",
   "execution_count": 189,
   "metadata": {},
   "outputs": [
    {
     "data": {
      "text/html": [
       "<div>\n",
       "<style scoped>\n",
       "    .dataframe tbody tr th:only-of-type {\n",
       "        vertical-align: middle;\n",
       "    }\n",
       "\n",
       "    .dataframe tbody tr th {\n",
       "        vertical-align: top;\n",
       "    }\n",
       "\n",
       "    .dataframe thead th {\n",
       "        text-align: right;\n",
       "    }\n",
       "</style>\n",
       "<table border=\"1\" class=\"dataframe\">\n",
       "  <thead>\n",
       "    <tr style=\"text-align: right;\">\n",
       "      <th></th>\n",
       "      <th>FRUITS_VEGGIES</th>\n",
       "      <th>PLACES_VISITED</th>\n",
       "      <th>CORE_CIRCLE</th>\n",
       "      <th>SUPPORTING_OTHERS</th>\n",
       "      <th>SOCIAL_NETWORK</th>\n",
       "      <th>ACHIEVEMENT</th>\n",
       "      <th>DONATION</th>\n",
       "      <th>BMI_RANGE</th>\n",
       "      <th>TODO_COMPLETED</th>\n",
       "      <th>FLOW</th>\n",
       "      <th>...</th>\n",
       "      <th>DAILY_SHOUTING</th>\n",
       "      <th>SUFFICIENT_INCOME</th>\n",
       "      <th>PERSONAL_AWARDS</th>\n",
       "      <th>TIME_FOR_PASSION</th>\n",
       "      <th>DAILY_MEDITATION</th>\n",
       "      <th>DAILY_STRESS</th>\n",
       "      <th>GENDER_Male</th>\n",
       "      <th>AGE_36 to 50</th>\n",
       "      <th>AGE_51 or more</th>\n",
       "      <th>AGE_Less than 20</th>\n",
       "    </tr>\n",
       "    <tr>\n",
       "      <th>Full_Cluster</th>\n",
       "      <th></th>\n",
       "      <th></th>\n",
       "      <th></th>\n",
       "      <th></th>\n",
       "      <th></th>\n",
       "      <th></th>\n",
       "      <th></th>\n",
       "      <th></th>\n",
       "      <th></th>\n",
       "      <th></th>\n",
       "      <th></th>\n",
       "      <th></th>\n",
       "      <th></th>\n",
       "      <th></th>\n",
       "      <th></th>\n",
       "      <th></th>\n",
       "      <th></th>\n",
       "      <th></th>\n",
       "      <th></th>\n",
       "      <th></th>\n",
       "      <th></th>\n",
       "    </tr>\n",
       "  </thead>\n",
       "  <tbody>\n",
       "    <tr>\n",
       "      <th>0</th>\n",
       "      <td>2.0</td>\n",
       "      <td>10.0</td>\n",
       "      <td>5.0</td>\n",
       "      <td>3.0</td>\n",
       "      <td>10.0</td>\n",
       "      <td>2.0</td>\n",
       "      <td>0.0</td>\n",
       "      <td>0.0</td>\n",
       "      <td>7.0</td>\n",
       "      <td>2.0</td>\n",
       "      <td>...</td>\n",
       "      <td>1.0</td>\n",
       "      <td>1.0</td>\n",
       "      <td>5.0</td>\n",
       "      <td>1.0</td>\n",
       "      <td>10.0</td>\n",
       "      <td>2.0</td>\n",
       "      <td>0.0</td>\n",
       "      <td>0.0</td>\n",
       "      <td>0.0</td>\n",
       "      <td>0.0</td>\n",
       "    </tr>\n",
       "    <tr>\n",
       "      <th>1</th>\n",
       "      <td>2.0</td>\n",
       "      <td>2.0</td>\n",
       "      <td>3.0</td>\n",
       "      <td>3.0</td>\n",
       "      <td>10.0</td>\n",
       "      <td>2.0</td>\n",
       "      <td>0.0</td>\n",
       "      <td>0.0</td>\n",
       "      <td>5.0</td>\n",
       "      <td>1.0</td>\n",
       "      <td>...</td>\n",
       "      <td>1.0</td>\n",
       "      <td>1.0</td>\n",
       "      <td>3.0</td>\n",
       "      <td>1.0</td>\n",
       "      <td>10.0</td>\n",
       "      <td>4.0</td>\n",
       "      <td>0.0</td>\n",
       "      <td>0.0</td>\n",
       "      <td>0.0</td>\n",
       "      <td>0.0</td>\n",
       "    </tr>\n",
       "    <tr>\n",
       "      <th>2</th>\n",
       "      <td>5.0</td>\n",
       "      <td>10.0</td>\n",
       "      <td>10.0</td>\n",
       "      <td>10.0</td>\n",
       "      <td>10.0</td>\n",
       "      <td>10.0</td>\n",
       "      <td>5.0</td>\n",
       "      <td>0.0</td>\n",
       "      <td>8.0</td>\n",
       "      <td>3.0</td>\n",
       "      <td>...</td>\n",
       "      <td>1.0</td>\n",
       "      <td>1.0</td>\n",
       "      <td>10.0</td>\n",
       "      <td>2.0</td>\n",
       "      <td>10.0</td>\n",
       "      <td>3.0</td>\n",
       "      <td>0.0</td>\n",
       "      <td>0.0</td>\n",
       "      <td>0.0</td>\n",
       "      <td>0.0</td>\n",
       "    </tr>\n",
       "  </tbody>\n",
       "</table>\n",
       "<p>3 rows × 24 columns</p>\n",
       "</div>"
      ],
      "text/plain": [
       "              FRUITS_VEGGIES  PLACES_VISITED  CORE_CIRCLE  SUPPORTING_OTHERS  \\\n",
       "Full_Cluster                                                                   \n",
       "0                        2.0            10.0          5.0                3.0   \n",
       "1                        2.0             2.0          3.0                3.0   \n",
       "2                        5.0            10.0         10.0               10.0   \n",
       "\n",
       "              SOCIAL_NETWORK  ACHIEVEMENT  DONATION  BMI_RANGE  \\\n",
       "Full_Cluster                                                     \n",
       "0                       10.0          2.0       0.0        0.0   \n",
       "1                       10.0          2.0       0.0        0.0   \n",
       "2                       10.0         10.0       5.0        0.0   \n",
       "\n",
       "              TODO_COMPLETED  FLOW  ...  DAILY_SHOUTING  SUFFICIENT_INCOME  \\\n",
       "Full_Cluster                        ...                                      \n",
       "0                        7.0   2.0  ...             1.0                1.0   \n",
       "1                        5.0   1.0  ...             1.0                1.0   \n",
       "2                        8.0   3.0  ...             1.0                1.0   \n",
       "\n",
       "              PERSONAL_AWARDS  TIME_FOR_PASSION  DAILY_MEDITATION  \\\n",
       "Full_Cluster                                                        \n",
       "0                         5.0               1.0              10.0   \n",
       "1                         3.0               1.0              10.0   \n",
       "2                        10.0               2.0              10.0   \n",
       "\n",
       "              DAILY_STRESS  GENDER_Male  AGE_36 to 50  AGE_51 or more  \\\n",
       "Full_Cluster                                                            \n",
       "0                      2.0          0.0           0.0             0.0   \n",
       "1                      4.0          0.0           0.0             0.0   \n",
       "2                      3.0          0.0           0.0             0.0   \n",
       "\n",
       "              AGE_Less than 20  \n",
       "Full_Cluster                    \n",
       "0                          0.0  \n",
       "1                          0.0  \n",
       "2                          0.0  \n",
       "\n",
       "[3 rows x 24 columns]"
      ]
     },
     "execution_count": 189,
     "metadata": {},
     "output_type": "execute_result"
    }
   ],
   "source": [
    "df_inverse.groupby(['Full_Cluster']).agg(lambda x: pd.Series.mode(x)[0])"
   ]
  }
 ],
 "metadata": {
  "celltoolbar": "Format de la Cellule Texte Brut",
  "kernelspec": {
   "display_name": "Python 3",
   "language": "python",
   "name": "python3"
  },
  "language_info": {
   "codemirror_mode": {
    "name": "ipython",
    "version": 3
   },
   "file_extension": ".py",
   "mimetype": "text/x-python",
   "name": "python",
   "nbconvert_exporter": "python",
   "pygments_lexer": "ipython3",
   "version": "3.8.2"
  }
 },
 "nbformat": 4,
 "nbformat_minor": 4
}
